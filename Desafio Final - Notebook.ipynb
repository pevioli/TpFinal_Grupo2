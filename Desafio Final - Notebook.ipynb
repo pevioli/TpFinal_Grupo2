{
 "cells": [
  {
   "cell_type": "code",
   "execution_count": 5,
   "metadata": {},
   "outputs": [],
   "source": [
    "import pandas as pd\n",
    "import numpy as np\n",
    "import seaborn as sns\n",
    "import matplotlib.pyplot as plt\n",
    "%matplotlib inline\n",
    "from sklearn.model_selection import train_test_split, StratifiedKFold, GridSearchCV\n",
    "from sklearn.pipeline import make_pipeline, make_union, Pipeline\n",
    "from sklearn.preprocessing import StandardScaler\n",
    "from sklearn.impute import SimpleImputer\n",
    "from sklearn.base import BaseEstimator, TransformerMixin\n",
    "from sklearn.linear_model import LogisticRegression\n",
    "from sklearn.metrics import classification_report\n",
    "from sklearn.metrics import accuracy_score\n",
    "from sklearn.naive_bayes import GaussianNB\n",
    "from sklearn.neighbors import KNeighborsClassifier\n",
    "from sklearn.metrics import confusion_matrix"
   ]
  },
  {
   "cell_type": "markdown",
   "metadata": {},
   "source": [
    "Importo y veo Dataset"
   ]
  },
  {
   "cell_type": "code",
   "execution_count": 6,
   "metadata": {},
   "outputs": [
    {
     "name": "stderr",
     "output_type": "stream",
     "text": [
      "C:\\Users\\agusr\\anaconda3\\lib\\site-packages\\IPython\\core\\interactiveshell.py:3146: DtypeWarning: Columns (6,7,8,9,10,11,12,13,14,15,16,17,18,19,20,21,22,23,24,25,26,27,28,29,30,31,32,33,34,35,36,37,38,39,40,41,42,43,44,45,46,47,48,49,50,51,52,53,54,55,56,57,58,59,60,61,62,63,64,65,66,67,68,69,70,71,72,73,74,75,76,77,78,79,80,81,82,83,84,85,86,87,88,89,90,91,92,93,94,95,96,97,98,99,100,101,102,103,104,105,106,107,108,109,110,111,112,113,114,115,116,117,118,119,120,121,122,123,124,125,126,127,128,129,130,131,132,133,134,135,136,137,138,139,140,141,142,143,144,145,146,147,148,149,150,151,152,153,154,155,156,157,158,159,160,161,162,163,164,165,166,167,168,169,170,171,172,173,174,175,176,177,178,179,180,181,182,183,184,185,186,187,188,189,190,191,192,193,194,195,196,197,198,199,200,201,202,203,204,205,206,207,208,209,210,211,212,213,214,215,216,217,218,219,220,221,222,223,224,225,226,227,235,242,243,253,254,255,256,257) have mixed types.Specify dtype option on import or set low_memory=False.\n",
      "  has_raised = await self.run_ast_nodes(code_ast.body, cell_name,\n"
     ]
    },
    {
     "data": {
      "text/html": [
       "<div>\n",
       "<style scoped>\n",
       "    .dataframe tbody tr th:only-of-type {\n",
       "        vertical-align: middle;\n",
       "    }\n",
       "\n",
       "    .dataframe tbody tr th {\n",
       "        vertical-align: top;\n",
       "    }\n",
       "\n",
       "    .dataframe thead th {\n",
       "        text-align: right;\n",
       "    }\n",
       "</style>\n",
       "<table border=\"1\" class=\"dataframe\">\n",
       "  <thead>\n",
       "    <tr style=\"text-align: right;\">\n",
       "      <th></th>\n",
       "      <th>ID1</th>\n",
       "      <th>cod_provincia</th>\n",
       "      <th>sector</th>\n",
       "      <th>ambito</th>\n",
       "      <th>claveseccion</th>\n",
       "      <th>idalumno</th>\n",
       "      <th>ap01_01</th>\n",
       "      <th>ap01_02</th>\n",
       "      <th>ap02</th>\n",
       "      <th>ap03</th>\n",
       "      <th>...</th>\n",
       "      <th>trabaja_fuera_hogar_remunerado</th>\n",
       "      <th>migración</th>\n",
       "      <th>edadA_junio2019</th>\n",
       "      <th>sobreedad</th>\n",
       "      <th>infraestructura</th>\n",
       "      <th>iinfraestructura</th>\n",
       "      <th>ap42_01rec</th>\n",
       "      <th>ap42_02rec</th>\n",
       "      <th>ap42_03rec</th>\n",
       "      <th>ap42_04rec</th>\n",
       "    </tr>\n",
       "  </thead>\n",
       "  <tbody>\n",
       "    <tr>\n",
       "      <th>0</th>\n",
       "      <td>120003000120003</td>\n",
       "      <td>2</td>\n",
       "      <td>2</td>\n",
       "      <td>1</td>\n",
       "      <td>02SF00003</td>\n",
       "      <td>3</td>\n",
       "      <td>10</td>\n",
       "      <td>4</td>\n",
       "      <td>1</td>\n",
       "      <td>1</td>\n",
       "      <td>...</td>\n",
       "      <td>3</td>\n",
       "      <td>2</td>\n",
       "      <td>17</td>\n",
       "      <td>1</td>\n",
       "      <td>,218644881556733</td>\n",
       "      <td>2.0</td>\n",
       "      <td>2</td>\n",
       "      <td>2</td>\n",
       "      <td>2</td>\n",
       "      <td>2</td>\n",
       "    </tr>\n",
       "    <tr>\n",
       "      <th>1</th>\n",
       "      <td>120003000120003</td>\n",
       "      <td>2</td>\n",
       "      <td>2</td>\n",
       "      <td>1</td>\n",
       "      <td>02SF00003</td>\n",
       "      <td>25</td>\n",
       "      <td>7</td>\n",
       "      <td>4</td>\n",
       "      <td>2</td>\n",
       "      <td>1</td>\n",
       "      <td>...</td>\n",
       "      <td>3</td>\n",
       "      <td>2</td>\n",
       "      <td>17</td>\n",
       "      <td>1</td>\n",
       "      <td>,218644881556733</td>\n",
       "      <td>2.0</td>\n",
       "      <td>2</td>\n",
       "      <td>2</td>\n",
       "      <td>2</td>\n",
       "      <td>2</td>\n",
       "    </tr>\n",
       "    <tr>\n",
       "      <th>2</th>\n",
       "      <td>120003000120003</td>\n",
       "      <td>2</td>\n",
       "      <td>2</td>\n",
       "      <td>1</td>\n",
       "      <td>02SF00002</td>\n",
       "      <td>27</td>\n",
       "      <td>3</td>\n",
       "      <td>5</td>\n",
       "      <td>1</td>\n",
       "      <td>1</td>\n",
       "      <td>...</td>\n",
       "      <td>3</td>\n",
       "      <td>2</td>\n",
       "      <td>17</td>\n",
       "      <td>1</td>\n",
       "      <td>,218644881556733</td>\n",
       "      <td>2.0</td>\n",
       "      <td>2</td>\n",
       "      <td>2</td>\n",
       "      <td>2</td>\n",
       "      <td>2</td>\n",
       "    </tr>\n",
       "    <tr>\n",
       "      <th>3</th>\n",
       "      <td>120003000120003</td>\n",
       "      <td>2</td>\n",
       "      <td>2</td>\n",
       "      <td>1</td>\n",
       "      <td>02SF00002</td>\n",
       "      <td>3</td>\n",
       "      <td>11</td>\n",
       "      <td>4</td>\n",
       "      <td>2</td>\n",
       "      <td>1</td>\n",
       "      <td>...</td>\n",
       "      <td>3</td>\n",
       "      <td>2</td>\n",
       "      <td>17</td>\n",
       "      <td>1</td>\n",
       "      <td>,218644881556733</td>\n",
       "      <td>2.0</td>\n",
       "      <td>2</td>\n",
       "      <td>2</td>\n",
       "      <td>1</td>\n",
       "      <td>1</td>\n",
       "    </tr>\n",
       "    <tr>\n",
       "      <th>4</th>\n",
       "      <td>120003000120003</td>\n",
       "      <td>2</td>\n",
       "      <td>2</td>\n",
       "      <td>1</td>\n",
       "      <td>02SF00003</td>\n",
       "      <td>5</td>\n",
       "      <td>11</td>\n",
       "      <td>4</td>\n",
       "      <td>2</td>\n",
       "      <td>1</td>\n",
       "      <td>...</td>\n",
       "      <td>3</td>\n",
       "      <td>2</td>\n",
       "      <td>17</td>\n",
       "      <td>1</td>\n",
       "      <td>,218644881556733</td>\n",
       "      <td>2.0</td>\n",
       "      <td>2</td>\n",
       "      <td>2</td>\n",
       "      <td>2</td>\n",
       "      <td>2</td>\n",
       "    </tr>\n",
       "  </tbody>\n",
       "</table>\n",
       "<p>5 rows × 264 columns</p>\n",
       "</div>"
      ],
      "text/plain": [
       "               ID1  cod_provincia  sector  ambito claveseccion  idalumno  \\\n",
       "0  120003000120003              2       2       1    02SF00003         3   \n",
       "1  120003000120003              2       2       1    02SF00003        25   \n",
       "2  120003000120003              2       2       1    02SF00002        27   \n",
       "3  120003000120003              2       2       1    02SF00002         3   \n",
       "4  120003000120003              2       2       1    02SF00003         5   \n",
       "\n",
       "  ap01_01 ap01_02 ap02 ap03  ... trabaja_fuera_hogar_remunerado migración  \\\n",
       "0      10       4    1    1  ...                              3         2   \n",
       "1       7       4    2    1  ...                              3         2   \n",
       "2       3       5    1    1  ...                              3         2   \n",
       "3      11       4    2    1  ...                              3         2   \n",
       "4      11       4    2    1  ...                              3         2   \n",
       "\n",
       "  edadA_junio2019 sobreedad   infraestructura iinfraestructura ap42_01rec  \\\n",
       "0              17         1  ,218644881556733              2.0          2   \n",
       "1              17         1  ,218644881556733              2.0          2   \n",
       "2              17         1  ,218644881556733              2.0          2   \n",
       "3              17         1  ,218644881556733              2.0          2   \n",
       "4              17         1  ,218644881556733              2.0          2   \n",
       "\n",
       "  ap42_02rec ap42_03rec ap42_04rec  \n",
       "0          2          2          2  \n",
       "1          2          2          2  \n",
       "2          2          2          2  \n",
       "3          2          1          1  \n",
       "4          2          2          2  \n",
       "\n",
       "[5 rows x 264 columns]"
      ]
     },
     "execution_count": 6,
     "metadata": {},
     "output_type": "execute_result"
    }
   ],
   "source": [
    "data = pd.read_csv('dataset_01.csv',sep = \";\",na_values=['-1','-2','-3','-4','-5','-6','-7','-8','-10'],skip_blank_lines=True)\n",
    "data.head(5)"
   ]
  },
  {
   "cell_type": "markdown",
   "metadata": {},
   "source": [
    "Inspecciono Dataset"
   ]
  },
  {
   "cell_type": "code",
   "execution_count": 7,
   "metadata": {},
   "outputs": [
    {
     "name": "stdout",
     "output_type": "stream",
     "text": [
      "Data Shape: (343750, 264)\n"
     ]
    },
    {
     "data": {
      "text/html": [
       "<div>\n",
       "<style scoped>\n",
       "    .dataframe tbody tr th:only-of-type {\n",
       "        vertical-align: middle;\n",
       "    }\n",
       "\n",
       "    .dataframe tbody tr th {\n",
       "        vertical-align: top;\n",
       "    }\n",
       "\n",
       "    .dataframe thead th {\n",
       "        text-align: right;\n",
       "    }\n",
       "</style>\n",
       "<table border=\"1\" class=\"dataframe\">\n",
       "  <thead>\n",
       "    <tr style=\"text-align: right;\">\n",
       "      <th></th>\n",
       "      <th>ID1</th>\n",
       "      <th>cod_provincia</th>\n",
       "      <th>sector</th>\n",
       "      <th>ambito</th>\n",
       "      <th>idalumno</th>\n",
       "      <th>isocioa</th>\n",
       "      <th>iinfraestructura</th>\n",
       "    </tr>\n",
       "  </thead>\n",
       "  <tbody>\n",
       "    <tr>\n",
       "      <th>count</th>\n",
       "      <td>3.437500e+05</td>\n",
       "      <td>343750.000000</td>\n",
       "      <td>343750.000000</td>\n",
       "      <td>343750.000000</td>\n",
       "      <td>343750.000000</td>\n",
       "      <td>323812.000000</td>\n",
       "      <td>281418.000000</td>\n",
       "    </tr>\n",
       "    <tr>\n",
       "      <th>mean</th>\n",
       "      <td>4.177331e+14</td>\n",
       "      <td>31.479959</td>\n",
       "      <td>1.382345</td>\n",
       "      <td>1.087953</td>\n",
       "      <td>51.739991</td>\n",
       "      <td>2.035382</td>\n",
       "      <td>-0.719663</td>\n",
       "    </tr>\n",
       "    <tr>\n",
       "      <th>std</th>\n",
       "      <td>2.413496e+14</td>\n",
       "      <td>30.151272</td>\n",
       "      <td>0.485961</td>\n",
       "      <td>0.283228</td>\n",
       "      <td>195.380806</td>\n",
       "      <td>0.606623</td>\n",
       "      <td>16.539593</td>\n",
       "    </tr>\n",
       "    <tr>\n",
       "      <th>min</th>\n",
       "      <td>3.600800e+13</td>\n",
       "      <td>2.000000</td>\n",
       "      <td>1.000000</td>\n",
       "      <td>1.000000</td>\n",
       "      <td>1.000000</td>\n",
       "      <td>1.000000</td>\n",
       "      <td>-99.000000</td>\n",
       "    </tr>\n",
       "    <tr>\n",
       "      <th>25%</th>\n",
       "      <td>2.086500e+14</td>\n",
       "      <td>6.000000</td>\n",
       "      <td>1.000000</td>\n",
       "      <td>1.000000</td>\n",
       "      <td>5.000000</td>\n",
       "      <td>2.000000</td>\n",
       "      <td>2.000000</td>\n",
       "    </tr>\n",
       "    <tr>\n",
       "      <th>50%</th>\n",
       "      <td>3.621002e+14</td>\n",
       "      <td>14.000000</td>\n",
       "      <td>1.000000</td>\n",
       "      <td>1.000000</td>\n",
       "      <td>10.000000</td>\n",
       "      <td>2.000000</td>\n",
       "      <td>2.000000</td>\n",
       "    </tr>\n",
       "    <tr>\n",
       "      <th>75%</th>\n",
       "      <td>5.960001e+14</td>\n",
       "      <td>54.000000</td>\n",
       "      <td>2.000000</td>\n",
       "      <td>1.000000</td>\n",
       "      <td>17.000000</td>\n",
       "      <td>2.000000</td>\n",
       "      <td>2.000000</td>\n",
       "    </tr>\n",
       "    <tr>\n",
       "      <th>max</th>\n",
       "      <td>1.000000e+15</td>\n",
       "      <td>94.000000</td>\n",
       "      <td>2.000000</td>\n",
       "      <td>2.000000</td>\n",
       "      <td>999.000000</td>\n",
       "      <td>3.000000</td>\n",
       "      <td>3.000000</td>\n",
       "    </tr>\n",
       "  </tbody>\n",
       "</table>\n",
       "</div>"
      ],
      "text/plain": [
       "                ID1  cod_provincia         sector         ambito  \\\n",
       "count  3.437500e+05  343750.000000  343750.000000  343750.000000   \n",
       "mean   4.177331e+14      31.479959       1.382345       1.087953   \n",
       "std    2.413496e+14      30.151272       0.485961       0.283228   \n",
       "min    3.600800e+13       2.000000       1.000000       1.000000   \n",
       "25%    2.086500e+14       6.000000       1.000000       1.000000   \n",
       "50%    3.621002e+14      14.000000       1.000000       1.000000   \n",
       "75%    5.960001e+14      54.000000       2.000000       1.000000   \n",
       "max    1.000000e+15      94.000000       2.000000       2.000000   \n",
       "\n",
       "            idalumno        isocioa  iinfraestructura  \n",
       "count  343750.000000  323812.000000     281418.000000  \n",
       "mean       51.739991       2.035382         -0.719663  \n",
       "std       195.380806       0.606623         16.539593  \n",
       "min         1.000000       1.000000        -99.000000  \n",
       "25%         5.000000       2.000000          2.000000  \n",
       "50%        10.000000       2.000000          2.000000  \n",
       "75%        17.000000       2.000000          2.000000  \n",
       "max       999.000000       3.000000          3.000000  "
      ]
     },
     "metadata": {},
     "output_type": "display_data"
    },
    {
     "name": "stdout",
     "output_type": "stream",
     "text": [
      "<class 'pandas.core.frame.DataFrame'>\n",
      "RangeIndex: 343750 entries, 0 to 343749\n",
      "Columns: 264 entries, ID1 to ap42_04rec\n",
      "dtypes: float64(2), int64(5), object(257)\n",
      "memory usage: 692.4+ MB\n"
     ]
    },
    {
     "data": {
      "text/plain": [
       "None"
      ]
     },
     "metadata": {},
     "output_type": "display_data"
    }
   ],
   "source": [
    "#print data properties\n",
    "print('Data Shape: {}'.format(data.shape))\n",
    "display(data.describe())\n",
    "display(data.info())"
   ]
  },
  {
   "cell_type": "markdown",
   "metadata": {},
   "source": [
    "Dropeo Variables que no me interesan"
   ]
  },
  {
   "cell_type": "code",
   "execution_count": 8,
   "metadata": {},
   "outputs": [],
   "source": [
    "columns_drop = ['modelo','ponder','lpondera','mpondera','ap33_04bis','ap33_06bis','TEL','TEM','isocioa_puntaje','isocioal_puntaje','isocioam_puntaje','claveseccion','idalumno','ap01_01','ap10','ap11_01','ap11_02','ap11_03','ap11_04','ap11_05','ap11_06','ap11_07','ap12','ap13','ap14_01','ap15','ap18_01','ap18_02','ap18_03','ap19','ap22','ap27_a','ap27_b','ap27_c','ap27_d','ap27_e','ap27_f','ap28_02','ap28_03','ap28_04','ap29_01.dico','ap29_02','ap29_02.dico','ap29_03','ap29_03.dico','ap29_04','ap29_04.dico','ap29_05','ap29_05.dico','ap29_06','ap29_06.dico','ap29_07','ap29_07.dico','ap30','ap31_01','ap31_02','ap31_03','ap31_04','ap31_05','ap31_06','ap32_a','ap32_b','ap32_c','ap32_d','ap32_f','ap33_01bis','ap33_02_a','ap33_02_b','ap33_02bis','ap33_03_a','ap33_03_b','ap33_03bis','ap33_04_a','ap33_04_b','ap33_05bis','ap33_07bis','ap33_08bis','ap33_09bis','ap33_10bis','ap33_11bis','ap35_01','ap35_02','ap35_04','ap35_05','ap36_a','ap36_b','ap36_c','ap36_d','ap36_e','ap36_f','ap37_a','ap37_b','ap37_c','ap37_d','ap37_dicotomica','ap37_e','ap37_f','ap37_g','ap37_h','ap37_i','ap37_j','ap37_k','ap37_l','ap37_m','ap37_n','ap38_a','ap38_b','ap38_c','ap38_d','ap38_e','ap38_f','ap38_g','ap38_h','ap38_i','ap38_j','ap38_k','ap38_l','ap38_m','ap38_n','ap41_01','ap41_02','ap41_03','ap41_04','ap41_05','ap41_06','ap41_07','ap41_08','ap41_09','ap41_10','ap41_11','ap42_01rec','ap42_02','ap42_02rec','ap42_03','ap42_03rec','ap42_04','ap42_04rec','ap43_b','ap43_c','ap43_d','ap43_e','ap43_f','ap43_g','ap43_h','ap44_01','ap44_02','ap44_03','ap44_04','ap44_05','ap45','ap46_01','ap46_02','ap46_03','ap46_04','ap46_05','ap47_01','ap47_02','ap47_03','ap47_04','ap47_05','ap47_06','ap47_07','ap47_08','ap47_09','ap47_10','ap47_11','ap47_12','ap48_a','ap48_b','ap48_c','ap48_d','ap48_e','ap48_f','ap48_g','ap48_h','ap48_i','iinfraestructura','isocioal','isocioam','jardín','repitencia_dicotomica','sobreedad','ap08_a','ap08_b','ap08_c','ap08_d','ap08_e','ap08_f','ap08_g','ap08_h','ap08_i','ap26','ap01_02','ap21','ID1','infraestructura']\n",
    "\n",
    "datafinal =data.drop(columns_drop, axis=1)"
   ]
  },
  {
   "cell_type": "markdown",
   "metadata": {},
   "source": [
    "Remplazo valores negativos por positivos para posterior transformacion"
   ]
  },
  {
   "cell_type": "code",
   "execution_count": 9,
   "metadata": {},
   "outputs": [],
   "source": [
    "datafinal['ap32_e']=datafinal['ap32_e'].replace('-9', '2')\n",
    "datafinal['ap33_01_a']=datafinal['ap33_01_a'].replace('-9', '2')\n",
    "datafinal['ap33_01_b']=datafinal['ap33_01_b'].replace('-9', '2')\n",
    "datafinal['ap43_a']=datafinal['ap43_a'].replace('-9', '2')"
   ]
  },
  {
   "cell_type": "code",
   "execution_count": 10,
   "metadata": {},
   "outputs": [
    {
     "data": {
      "text/plain": [
       "(343750, 68)"
      ]
     },
     "execution_count": 10,
     "metadata": {},
     "output_type": "execute_result"
    }
   ],
   "source": [
    "datafinal.shape"
   ]
  },
  {
   "cell_type": "markdown",
   "metadata": {},
   "source": [
    "Paso valores negativos del dataset a NaN"
   ]
  },
  {
   "cell_type": "code",
   "execution_count": 11,
   "metadata": {},
   "outputs": [],
   "source": [
    "Listacolumns = [ 'ap02', 'ap03', 'ap04', 'ap05',\n",
    "       'ap06', 'ap07', 'ap09', 'ap11_08', 'ap14_02', 'ap16', 'ap17', 'ap23_01',\n",
    "       'ap23_02', 'ap23_03', 'ap23_04', 'ap23_05', 'ap23_06', 'ap24',\n",
    "       'ap25_01', 'ap25_02', 'ap25_03', 'ap28_01', 'ap29_01', 'ap32_e',\n",
    "       'ap33_01_a', 'ap33_01_b', 'ap34', 'ap35_03', 'ap39_01', 'ap39_02',\n",
    "       'ap39_03', 'ap39_04', 'ap40_01', 'ap40_02', 'ap40_03', 'ap40_04',\n",
    "       'ap40_05', 'ap40_06', 'ap42_01', 'ap43_a', 'ap49_01', 'ap49_02',\n",
    "       'ap50_01', 'ap50_02', 'ap50_03', 'ap50_04', 'ap50_05', 'ap51_01',\n",
    "       'ap51_02', 'ap51_03', 'ap51_04', 'ap51_05', 'ap51_06', 'ap51_07',\n",
    "       'ap51_08', 'ap51_09', 'ap51_10',\n",
    "       'ldesemp', 'mdesemp', 'ap26_rec',\n",
    "       'trabaja_fuera_hogar', 'trabaja_fuera_hogar_remunerado', 'migración',\n",
    "       'edadA_junio2019']"
   ]
  },
  {
   "cell_type": "code",
   "execution_count": 12,
   "metadata": {},
   "outputs": [],
   "source": [
    "for columna in Listacolumns:\n",
    "    datafinal[columna]=datafinal[columna].replace('-9', np.nan)"
   ]
  },
  {
   "cell_type": "code",
   "execution_count": 13,
   "metadata": {},
   "outputs": [],
   "source": [
    "for columna in Listacolumns:\n",
    "    datafinal[columna] = pd.to_numeric(datafinal[columna], errors='coerce',downcast='integer')"
   ]
  },
  {
   "cell_type": "markdown",
   "metadata": {},
   "source": [
    "Miro % de missings"
   ]
  },
  {
   "cell_type": "code",
   "execution_count": 14,
   "metadata": {},
   "outputs": [
    {
     "name": "stdout",
     "output_type": "stream",
     "text": [
      "cod_provincia                      0.000000\n",
      "sector                             0.000000\n",
      "ambito                             0.000000\n",
      "ap02                               2.800291\n",
      "ap03                               1.923782\n",
      "ap04                               2.148073\n",
      "ap05                               3.604655\n",
      "ap06                               2.643491\n",
      "ap07                               4.334255\n",
      "ap09                               3.285527\n",
      "ap11_08                            6.018618\n",
      "ap14_02                           14.804945\n",
      "ap16                               2.652800\n",
      "ap17                               3.558982\n",
      "ap23_01                            4.416873\n",
      "ap23_02                            6.602473\n",
      "ap23_03                            7.170327\n",
      "ap23_04                            5.782691\n",
      "ap23_05                            7.640436\n",
      "ap23_06                            6.699927\n",
      "ap24                               3.273309\n",
      "ap25_01                            9.452509\n",
      "ap25_02                            8.659491\n",
      "ap25_03                           10.398255\n",
      "ap28_01                            3.659345\n",
      "ap29_01                            4.041309\n",
      "ap32_e                             0.616727\n",
      "ap33_01_a                          0.621673\n",
      "ap33_01_b                          0.621673\n",
      "ap34                               5.858327\n",
      "ap35_03                            6.167855\n",
      "ap39_01                            5.536873\n",
      "ap39_02                            6.100073\n",
      "ap39_03                            5.996800\n",
      "ap39_04                            6.309236\n",
      "ap40_01                            6.037818\n",
      "ap40_02                            6.598109\n",
      "ap40_03                            6.639127\n",
      "ap40_04                            7.192727\n",
      "ap40_05                            6.779055\n",
      "ap40_06                            7.154327\n",
      "ap42_01                            8.718836\n",
      "ap43_a                             0.631564\n",
      "ap49_01                           27.333818\n",
      "ap49_02                           27.084509\n",
      "ap50_01                           25.465600\n",
      "ap50_02                           26.368291\n",
      "ap50_03                           26.610909\n",
      "ap50_04                           26.724364\n",
      "ap50_05                           26.454400\n",
      "ap51_01                           25.730909\n",
      "ap51_02                           26.139345\n",
      "ap51_03                           27.198255\n",
      "ap51_04                           26.904727\n",
      "ap51_05                           27.035927\n",
      "ap51_06                           27.385018\n",
      "ap51_07                           27.584873\n",
      "ap51_08                           27.323345\n",
      "ap51_09                           26.810764\n",
      "ap51_10                           26.736873\n",
      "ldesemp                            4.267055\n",
      "mdesemp                            5.540655\n",
      "isocioa                            5.800145\n",
      "ap26_rec                           2.505891\n",
      "trabaja_fuera_hogar                3.613091\n",
      "trabaja_fuera_hogar_remunerado     3.613091\n",
      "migración                          1.657891\n",
      "edadA_junio2019                    4.985891\n",
      "dtype: float64\n"
     ]
    }
   ],
   "source": [
    "pd.set_option('display.max_rows', 300)\n",
    "print(datafinal.isna().sum()/len(datafinal)*100)"
   ]
  },
  {
   "cell_type": "code",
   "execution_count": 15,
   "metadata": {},
   "outputs": [],
   "source": [
    "datafinal = datafinal.dropna()"
   ]
  },
  {
   "cell_type": "code",
   "execution_count": 16,
   "metadata": {},
   "outputs": [
    {
     "data": {
      "text/plain": [
       "(123018, 68)"
      ]
     },
     "execution_count": 16,
     "metadata": {},
     "output_type": "execute_result"
    }
   ],
   "source": [
    "datafinal.shape"
   ]
  },
  {
   "cell_type": "markdown",
   "metadata": {},
   "source": [
    "Armo formatos finales de cada columna"
   ]
  },
  {
   "cell_type": "code",
   "execution_count": 17,
   "metadata": {},
   "outputs": [],
   "source": [
    "for columna in datafinal.columns:\n",
    "    datafinal[columna] = datafinal[columna].astype(object)\n",
    "datafinal['mdesemp'] = datafinal['mdesemp'].astype(int)"
   ]
  },
  {
   "cell_type": "code",
   "execution_count": 18,
   "metadata": {},
   "outputs": [
    {
     "name": "stdout",
     "output_type": "stream",
     "text": [
      "<class 'pandas.core.frame.DataFrame'>\n",
      "Int64Index: 123018 entries, 0 to 343741\n",
      "Data columns (total 68 columns):\n",
      " #   Column                          Non-Null Count   Dtype \n",
      "---  ------                          --------------   ----- \n",
      " 0   cod_provincia                   123018 non-null  object\n",
      " 1   sector                          123018 non-null  object\n",
      " 2   ambito                          123018 non-null  object\n",
      " 3   ap02                            123018 non-null  object\n",
      " 4   ap03                            123018 non-null  object\n",
      " 5   ap04                            123018 non-null  object\n",
      " 6   ap05                            123018 non-null  object\n",
      " 7   ap06                            123018 non-null  object\n",
      " 8   ap07                            123018 non-null  object\n",
      " 9   ap09                            123018 non-null  object\n",
      " 10  ap11_08                         123018 non-null  object\n",
      " 11  ap14_02                         123018 non-null  object\n",
      " 12  ap16                            123018 non-null  object\n",
      " 13  ap17                            123018 non-null  object\n",
      " 14  ap23_01                         123018 non-null  object\n",
      " 15  ap23_02                         123018 non-null  object\n",
      " 16  ap23_03                         123018 non-null  object\n",
      " 17  ap23_04                         123018 non-null  object\n",
      " 18  ap23_05                         123018 non-null  object\n",
      " 19  ap23_06                         123018 non-null  object\n",
      " 20  ap24                            123018 non-null  object\n",
      " 21  ap25_01                         123018 non-null  object\n",
      " 22  ap25_02                         123018 non-null  object\n",
      " 23  ap25_03                         123018 non-null  object\n",
      " 24  ap28_01                         123018 non-null  object\n",
      " 25  ap29_01                         123018 non-null  object\n",
      " 26  ap32_e                          123018 non-null  object\n",
      " 27  ap33_01_a                       123018 non-null  object\n",
      " 28  ap33_01_b                       123018 non-null  object\n",
      " 29  ap34                            123018 non-null  object\n",
      " 30  ap35_03                         123018 non-null  object\n",
      " 31  ap39_01                         123018 non-null  object\n",
      " 32  ap39_02                         123018 non-null  object\n",
      " 33  ap39_03                         123018 non-null  object\n",
      " 34  ap39_04                         123018 non-null  object\n",
      " 35  ap40_01                         123018 non-null  object\n",
      " 36  ap40_02                         123018 non-null  object\n",
      " 37  ap40_03                         123018 non-null  object\n",
      " 38  ap40_04                         123018 non-null  object\n",
      " 39  ap40_05                         123018 non-null  object\n",
      " 40  ap40_06                         123018 non-null  object\n",
      " 41  ap42_01                         123018 non-null  object\n",
      " 42  ap43_a                          123018 non-null  object\n",
      " 43  ap49_01                         123018 non-null  object\n",
      " 44  ap49_02                         123018 non-null  object\n",
      " 45  ap50_01                         123018 non-null  object\n",
      " 46  ap50_02                         123018 non-null  object\n",
      " 47  ap50_03                         123018 non-null  object\n",
      " 48  ap50_04                         123018 non-null  object\n",
      " 49  ap50_05                         123018 non-null  object\n",
      " 50  ap51_01                         123018 non-null  object\n",
      " 51  ap51_02                         123018 non-null  object\n",
      " 52  ap51_03                         123018 non-null  object\n",
      " 53  ap51_04                         123018 non-null  object\n",
      " 54  ap51_05                         123018 non-null  object\n",
      " 55  ap51_06                         123018 non-null  object\n",
      " 56  ap51_07                         123018 non-null  object\n",
      " 57  ap51_08                         123018 non-null  object\n",
      " 58  ap51_09                         123018 non-null  object\n",
      " 59  ap51_10                         123018 non-null  object\n",
      " 60  ldesemp                         123018 non-null  object\n",
      " 61  mdesemp                         123018 non-null  int32 \n",
      " 62  isocioa                         123018 non-null  object\n",
      " 63  ap26_rec                        123018 non-null  object\n",
      " 64  trabaja_fuera_hogar             123018 non-null  object\n",
      " 65  trabaja_fuera_hogar_remunerado  123018 non-null  object\n",
      " 66  migración                       123018 non-null  object\n",
      " 67  edadA_junio2019                 123018 non-null  object\n",
      "dtypes: int32(1), object(67)\n",
      "memory usage: 64.3+ MB\n"
     ]
    }
   ],
   "source": [
    "datafinal.info()"
   ]
  },
  {
   "cell_type": "code",
   "execution_count": 19,
   "metadata": {},
   "outputs": [
    {
     "data": {
      "text/html": [
       "<div>\n",
       "<style scoped>\n",
       "    .dataframe tbody tr th:only-of-type {\n",
       "        vertical-align: middle;\n",
       "    }\n",
       "\n",
       "    .dataframe tbody tr th {\n",
       "        vertical-align: top;\n",
       "    }\n",
       "\n",
       "    .dataframe thead th {\n",
       "        text-align: right;\n",
       "    }\n",
       "</style>\n",
       "<table border=\"1\" class=\"dataframe\">\n",
       "  <thead>\n",
       "    <tr style=\"text-align: right;\">\n",
       "      <th></th>\n",
       "      <th>mdesemp</th>\n",
       "    </tr>\n",
       "  </thead>\n",
       "  <tbody>\n",
       "    <tr>\n",
       "      <th>mdesemp</th>\n",
       "      <td>1.0</td>\n",
       "    </tr>\n",
       "  </tbody>\n",
       "</table>\n",
       "</div>"
      ],
      "text/plain": [
       "         mdesemp\n",
       "mdesemp      1.0"
      ]
     },
     "execution_count": 19,
     "metadata": {},
     "output_type": "execute_result"
    }
   ],
   "source": [
    "# ¿Qué variables están más correlacionadas con el target?\n",
    "datafinal.corr()"
   ]
  },
  {
   "cell_type": "markdown",
   "metadata": {},
   "source": [
    "Separo X e Y, y armo target de Y (1 si la nota es sobresaliente)"
   ]
  },
  {
   "cell_type": "code",
   "execution_count": 20,
   "metadata": {},
   "outputs": [
    {
     "data": {
      "text/plain": [
       "0    19146\n",
       "1      854\n",
       "Name: mdesemp, dtype: int64"
      ]
     },
     "execution_count": 20,
     "metadata": {},
     "output_type": "execute_result"
    }
   ],
   "source": [
    "datamate = datafinal.drop(['ldesemp'],axis=1).sample(n=20000,random_state=15)\n",
    "X = datamate.drop(['mdesemp'],axis=1)\n",
    "\n",
    "X = pd.get_dummies(X, drop_first=True)\n",
    "y = datamate.mdesemp.apply(lambda x: 1 if x==4 else 0)\n",
    "\n",
    "y.value_counts()\n",
    "\n"
   ]
  },
  {
   "cell_type": "markdown",
   "metadata": {},
   "source": [
    "Miro cantidad de columnas dummies"
   ]
  },
  {
   "cell_type": "code",
   "execution_count": 21,
   "metadata": {},
   "outputs": [
    {
     "data": {
      "text/plain": [
       "Index(['cod_provincia_6', 'cod_provincia_10', 'cod_provincia_14',\n",
       "       'cod_provincia_18', 'cod_provincia_22', 'cod_provincia_30',\n",
       "       'cod_provincia_34', 'cod_provincia_38', 'cod_provincia_42',\n",
       "       'cod_provincia_46',\n",
       "       ...\n",
       "       'migración_1.0', 'migración_2.0', 'migración_9.0',\n",
       "       'edadA_junio2019_15.0', 'edadA_junio2019_16.0', 'edadA_junio2019_17.0',\n",
       "       'edadA_junio2019_18.0', 'edadA_junio2019_19.0', 'edadA_junio2019_20.0',\n",
       "       'edadA_junio2019_21.0'],\n",
       "      dtype='object', length=306)"
      ]
     },
     "execution_count": 21,
     "metadata": {},
     "output_type": "execute_result"
    }
   ],
   "source": [
    "Columnas = X.columns\n",
    "Columnas"
   ]
  },
  {
   "cell_type": "markdown",
   "metadata": {},
   "source": [
    "Defino funciones para pipelines"
   ]
  },
  {
   "cell_type": "code",
   "execution_count": 22,
   "metadata": {},
   "outputs": [],
   "source": [
    "class ColumnSelector(BaseEstimator, TransformerMixin):\n",
    "    def __init__(self, columns):\n",
    "        self.columns = columns\n",
    "    \n",
    "    def transform(self, X, *_):\n",
    "        if isinstance(X, pd.DataFrame):\n",
    "            return pd.DataFrame(X[self.columns])\n",
    "        else:\n",
    "            raise TypeError(\"Este Transformador solo funciona en DF de Pandas\")\n",
    "    \n",
    "    def fit(self, X, *_):\n",
    "        return self\n",
    "    "
   ]
  },
  {
   "cell_type": "code",
   "execution_count": 23,
   "metadata": {},
   "outputs": [],
   "source": [
    "class GetDummiesTransformer(BaseEstimator, TransformerMixin):\n",
    "    def __init__(self, columns):\n",
    "        self.columns = columns\n",
    "    \n",
    "    def transform(self, X, *_):\n",
    "        if isinstance(X, pd.DataFrame):\n",
    "            return pd.get_dummies(X[self.columns], columns = self.columns,dummy_na = True, drop_first= True)\n",
    "        else:\n",
    "            raise TypeError(\"Este Transformador solo funciona en DF de Pandas\")\n",
    "    \n",
    "    def fit(self, X, *_):\n",
    "        return self\n"
   ]
  },
  {
   "cell_type": "code",
   "execution_count": 24,
   "metadata": {},
   "outputs": [
    {
     "data": {
      "text/plain": [
       "array([[-0.76053099, -0.10226555, -0.36550521, ..., -0.17616506,\n",
       "        -0.0936822 , -0.04801356],\n",
       "       [ 1.31487081, -0.10226555, -0.36550521, ..., -0.17616506,\n",
       "        -0.0936822 , -0.04801356],\n",
       "       [-0.76053099, -0.10226555, -0.36550521, ..., -0.17616506,\n",
       "        -0.0936822 , -0.04801356],\n",
       "       ...,\n",
       "       [-0.76053099, -0.10226555, -0.36550521, ..., -0.17616506,\n",
       "        -0.0936822 , -0.04801356],\n",
       "       [ 1.31487081, -0.10226555, -0.36550521, ..., -0.17616506,\n",
       "        -0.0936822 , -0.04801356],\n",
       "       [ 1.31487081, -0.10226555, -0.36550521, ..., -0.17616506,\n",
       "        -0.0936822 , -0.04801356]])"
      ]
     },
     "execution_count": 24,
     "metadata": {},
     "output_type": "execute_result"
    }
   ],
   "source": [
    "union = make_pipeline(StandardScaler())\n",
    "\n",
    "union.fit_transform(X)"
   ]
  },
  {
   "cell_type": "markdown",
   "metadata": {},
   "source": [
    "Separo en train y Test"
   ]
  },
  {
   "cell_type": "code",
   "execution_count": 25,
   "metadata": {},
   "outputs": [
    {
     "data": {
      "text/plain": [
       "((15000, 306), (5000, 306), (15000,), (5000,))"
      ]
     },
     "execution_count": 25,
     "metadata": {},
     "output_type": "execute_result"
    }
   ],
   "source": [
    "from sklearn.model_selection import train_test_split\n",
    "X_train, X_test, y_train, y_test = train_test_split(X, y, test_size=0.25, random_state=40)\n",
    "X_train.shape, X_test.shape, y_train.shape, y_test.shape"
   ]
  },
  {
   "cell_type": "markdown",
   "metadata": {},
   "source": [
    "Utilizo Undersampling para balanceo de clases"
   ]
  },
  {
   "cell_type": "code",
   "execution_count": 26,
   "metadata": {},
   "outputs": [],
   "source": [
    "from imblearn.under_sampling import RandomUnderSampler\n",
    "\n",
    "\n",
    "sampler=RandomUnderSampler()\n",
    "X_train_us,y_train_us=sampler.fit_resample(X_train,y_train)"
   ]
  },
  {
   "cell_type": "markdown",
   "metadata": {},
   "source": [
    "Pruebo con regresiones logisticas"
   ]
  },
  {
   "cell_type": "code",
   "execution_count": 27,
   "metadata": {},
   "outputs": [],
   "source": [
    "pipeline = Pipeline([('union', union), \n",
    "                     ('clasificador', LogisticRegression(solver='liblinear'))])\n",
    "\n",
    "parameters = {'clasificador__penalty': ['l1', 'l2'],\n",
    "              'clasificador__C': [0.001, 0.01, 0.1, 1, 10, 100, 1000]}"
   ]
  },
  {
   "cell_type": "code",
   "execution_count": 28,
   "metadata": {},
   "outputs": [],
   "source": [
    "from sklearn.model_selection import StratifiedKFold\n",
    "\n",
    "folds=StratifiedKFold(n_splits=5,shuffle=True, random_state=7)\n",
    "\n",
    "grid_search = GridSearchCV (pipeline, parameters,cv=folds, n_jobs = 5)"
   ]
  },
  {
   "cell_type": "code",
   "execution_count": 29,
   "metadata": {},
   "outputs": [
    {
     "data": {
      "text/plain": [
       "GridSearchCV(cv=StratifiedKFold(n_splits=5, random_state=7, shuffle=True),\n",
       "             estimator=Pipeline(steps=[('union',\n",
       "                                        Pipeline(steps=[('standardscaler',\n",
       "                                                         StandardScaler())])),\n",
       "                                       ('clasificador',\n",
       "                                        LogisticRegression(solver='liblinear'))]),\n",
       "             n_jobs=5,\n",
       "             param_grid={'clasificador__C': [0.001, 0.01, 0.1, 1, 10, 100,\n",
       "                                             1000],\n",
       "                         'clasificador__penalty': ['l1', 'l2']})"
      ]
     },
     "execution_count": 29,
     "metadata": {},
     "output_type": "execute_result"
    }
   ],
   "source": [
    "grid_search.fit(pd.DataFrame(X_train_us, columns=X.columns), y_train_us)"
   ]
  },
  {
   "cell_type": "code",
   "execution_count": 30,
   "metadata": {},
   "outputs": [
    {
     "name": "stdout",
     "output_type": "stream",
     "text": [
      "Best score: 0.786\n",
      "Best parameters set:\n",
      "\t clasificador__C: 0.001\n",
      "\t clasificador__penalty: 'l2'\n"
     ]
    }
   ],
   "source": [
    "print(\"Best score: %0.3f\" % grid_search.best_score_) \n",
    "print(\"Best parameters set:\" )\n",
    "best_parameters = grid_search.best_estimator_.get_params()\n",
    "for param_name in sorted (parameters . keys()): \n",
    "                    print(\"\\t %s: %r\" % (param_name, best_parameters[param_name])) "
   ]
  },
  {
   "cell_type": "code",
   "execution_count": 31,
   "metadata": {},
   "outputs": [],
   "source": [
    "y_pred = grid_search.best_estimator_.predict(X_test)"
   ]
  },
  {
   "cell_type": "code",
   "execution_count": 32,
   "metadata": {},
   "outputs": [
    {
     "name": "stdout",
     "output_type": "stream",
     "text": [
      "              precision    recall  f1-score   support\n",
      "\n",
      "           0       0.99      0.76      0.86      4785\n",
      "           1       0.13      0.80      0.22       215\n",
      "\n",
      "    accuracy                           0.76      5000\n",
      "   macro avg       0.56      0.78      0.54      5000\n",
      "weighted avg       0.95      0.76      0.83      5000\n",
      "\n",
      "0.7584\n"
     ]
    }
   ],
   "source": [
    "print(classification_report(y_test, y_pred))\n",
    "print(accuracy_score(y_test, y_pred))"
   ]
  },
  {
   "cell_type": "code",
   "execution_count": 33,
   "metadata": {},
   "outputs": [
    {
     "data": {
      "text/plain": [
       "Text(33.0, 0.5, 'Reales')"
      ]
     },
     "execution_count": 33,
     "metadata": {},
     "output_type": "execute_result"
    },
    {
     "data": {
      "image/png": "[encoded data removed]",
      "text/plain": [
       "<Figure size 432x288 with 2 Axes>"
      ]
     },
     "metadata": {
      "needs_background": "light"
     },
     "output_type": "display_data"
    }
   ],
   "source": [
    "sns.heatmap(confusion_matrix(y_test, y_pred), annot=True, fmt='4d')\n",
    "plt.xlabel('Predichos')\n",
    "plt.ylabel('Reales')"
   ]
  },
  {
   "cell_type": "markdown",
   "metadata": {},
   "source": [
    "Probamos con Bayes"
   ]
  },
  {
   "cell_type": "code",
   "execution_count": 34,
   "metadata": {},
   "outputs": [],
   "source": [
    "pipeline = Pipeline([('union', union), \n",
    "                     ('clasificador', GaussianNB())])\n",
    "\n",
    "parameters = {'clasificador__priors': [None],\n",
    "              'clasificador__var_smoothing': [0.00000001, 0.000000001, 0.00000001]}\n",
    "                    "
   ]
  },
  {
   "cell_type": "code",
   "execution_count": 35,
   "metadata": {},
   "outputs": [],
   "source": [
    "from sklearn.model_selection import StratifiedKFold\n",
    "\n",
    "folds=StratifiedKFold(n_splits=5,shuffle=True, random_state=42)\n",
    "\n",
    "grid_search = GridSearchCV (pipeline, parameters,cv=folds, n_jobs = 5)"
   ]
  },
  {
   "cell_type": "code",
   "execution_count": 36,
   "metadata": {},
   "outputs": [
    {
     "data": {
      "text/plain": [
       "GridSearchCV(cv=StratifiedKFold(n_splits=5, random_state=42, shuffle=True),\n",
       "             estimator=Pipeline(steps=[('union',\n",
       "                                        Pipeline(steps=[('standardscaler',\n",
       "                                                         StandardScaler())])),\n",
       "                                       ('clasificador', GaussianNB())]),\n",
       "             n_jobs=5,\n",
       "             param_grid={'clasificador__priors': [None],\n",
       "                         'clasificador__var_smoothing': [1e-08, 1e-09, 1e-08]})"
      ]
     },
     "execution_count": 36,
     "metadata": {},
     "output_type": "execute_result"
    }
   ],
   "source": [
    "grid_search.fit(pd.DataFrame(X_train_us, columns=X.columns), y_train_us)"
   ]
  },
  {
   "cell_type": "code",
   "execution_count": 37,
   "metadata": {},
   "outputs": [
    {
     "name": "stdout",
     "output_type": "stream",
     "text": [
      "Best score: 0.671\n",
      "Best parameters set:\n",
      "\t clasificador__priors: None\n",
      "\t clasificador__var_smoothing: 1e-08\n"
     ]
    }
   ],
   "source": [
    "print(\"Best score: %0.3f\" % grid_search.best_score_) \n",
    "print(\"Best parameters set:\" )\n",
    "best_parameters = grid_search.best_estimator_.get_params()\n",
    "for param_name in sorted (parameters . keys()): \n",
    "                    print(\"\\t %s: %r\" % (param_name, best_parameters[param_name])) "
   ]
  },
  {
   "cell_type": "code",
   "execution_count": 38,
   "metadata": {},
   "outputs": [],
   "source": [
    "y_pred = grid_search.best_estimator_.predict(X_test)"
   ]
  },
  {
   "cell_type": "code",
   "execution_count": 39,
   "metadata": {},
   "outputs": [
    {
     "name": "stdout",
     "output_type": "stream",
     "text": [
      "              precision    recall  f1-score   support\n",
      "\n",
      "           0       0.99      0.46      0.63      4785\n",
      "           1       0.07      0.89      0.13       215\n",
      "\n",
      "    accuracy                           0.48      5000\n",
      "   macro avg       0.53      0.68      0.38      5000\n",
      "weighted avg       0.95      0.48      0.61      5000\n",
      "\n",
      "0.4832\n"
     ]
    }
   ],
   "source": [
    "print(classification_report(y_test, y_pred))\n",
    "print(accuracy_score(y_test, y_pred))"
   ]
  },
  {
   "cell_type": "code",
   "execution_count": 40,
   "metadata": {},
   "outputs": [
    {
     "data": {
      "text/plain": [
       "Text(33.0, 0.5, 'Reales')"
      ]
     },
     "execution_count": 40,
     "metadata": {},
     "output_type": "execute_result"
    },
    {
     "data": {
      "image/png": "[encoded data removed]",
      "text/plain": [
       "<Figure size 432x288 with 2 Axes>"
      ]
     },
     "metadata": {
      "needs_background": "light"
     },
     "output_type": "display_data"
    }
   ],
   "source": [
    "sns.heatmap(confusion_matrix(y_test, y_pred), annot=True, fmt='4d')\n",
    "plt.xlabel('Predichos')\n",
    "plt.ylabel('Reales')"
   ]
  },
  {
   "cell_type": "markdown",
   "metadata": {},
   "source": [
    "Probamos con clasificador KNN"
   ]
  },
  {
   "cell_type": "code",
   "execution_count": 41,
   "metadata": {},
   "outputs": [],
   "source": [
    "pipeline = Pipeline([('union', union), \n",
    "                     ('clasificador', GaussianNB())])\n",
    "\n",
    "parameters = {'clasificador__priors': [None],\n",
    "              'clasificador__var_smoothing': [0.00000001, 0.000000001, 0.00000001]}\n",
    "                    "
   ]
  },
  {
   "cell_type": "code",
   "execution_count": 42,
   "metadata": {},
   "outputs": [],
   "source": [
    "from sklearn.model_selection import StratifiedKFold\n",
    "\n",
    "folds=StratifiedKFold(n_splits=5,shuffle=True, random_state=42)\n",
    "\n",
    "grid_search = GridSearchCV (pipeline, parameters,cv=folds, n_jobs = 5)"
   ]
  },
  {
   "cell_type": "code",
   "execution_count": 43,
   "metadata": {},
   "outputs": [
    {
     "data": {
      "text/plain": [
       "GridSearchCV(cv=StratifiedKFold(n_splits=5, random_state=42, shuffle=True),\n",
       "             estimator=Pipeline(steps=[('union',\n",
       "                                        Pipeline(steps=[('standardscaler',\n",
       "                                                         StandardScaler())])),\n",
       "                                       ('clasificador', GaussianNB())]),\n",
       "             n_jobs=5,\n",
       "             param_grid={'clasificador__priors': [None],\n",
       "                         'clasificador__var_smoothing': [1e-08, 1e-09, 1e-08]})"
      ]
     },
     "execution_count": 43,
     "metadata": {},
     "output_type": "execute_result"
    }
   ],
   "source": [
    "grid_search.fit(pd.DataFrame(X_train_us, columns=X.columns), y_train_us)"
   ]
  },
  {
   "cell_type": "code",
   "execution_count": 44,
   "metadata": {},
   "outputs": [
    {
     "name": "stdout",
     "output_type": "stream",
     "text": [
      "Best score: 0.671\n",
      "Best parameters set:\n",
      "\t clasificador__priors: None\n",
      "\t clasificador__var_smoothing: 1e-08\n"
     ]
    }
   ],
   "source": [
    "print(\"Best score: %0.3f\" % grid_search.best_score_) \n",
    "print(\"Best parameters set:\" )\n",
    "best_parameters = grid_search.best_estimator_.get_params()\n",
    "for param_name in sorted (parameters . keys()): \n",
    "                    print(\"\\t %s: %r\" % (param_name, best_parameters[param_name])) "
   ]
  },
  {
   "cell_type": "code",
   "execution_count": 45,
   "metadata": {},
   "outputs": [],
   "source": [
    "y_pred = grid_search.best_estimator_.predict(X_test)"
   ]
  },
  {
   "cell_type": "code",
   "execution_count": 46,
   "metadata": {},
   "outputs": [
    {
     "name": "stdout",
     "output_type": "stream",
     "text": [
      "              precision    recall  f1-score   support\n",
      "\n",
      "           0       0.99      0.46      0.63      4785\n",
      "           1       0.07      0.89      0.13       215\n",
      "\n",
      "    accuracy                           0.48      5000\n",
      "   macro avg       0.53      0.68      0.38      5000\n",
      "weighted avg       0.95      0.48      0.61      5000\n",
      "\n",
      "0.4832\n"
     ]
    }
   ],
   "source": [
    "print(classification_report(y_test, y_pred))\n",
    "print(accuracy_score(y_test, y_pred))"
   ]
  },
  {
   "cell_type": "code",
   "execution_count": 47,
   "metadata": {},
   "outputs": [
    {
     "data": {
      "text/plain": [
       "Text(33.0, 0.5, 'Reales')"
      ]
     },
     "execution_count": 47,
     "metadata": {},
     "output_type": "execute_result"
    },
    {
     "data": {
      "image/png": "[encoded data removed]",
      "text/plain": [
       "<Figure size 432x288 with 2 Axes>"
      ]
     },
     "metadata": {
      "needs_background": "light"
     },
     "output_type": "display_data"
    }
   ],
   "source": [
    "sns.heatmap(confusion_matrix(y_test, y_pred), annot=True, fmt='4d')\n",
    "plt.xlabel('Predichos')\n",
    "plt.ylabel('Reales')"
   ]
  },
  {
   "cell_type": "markdown",
   "metadata": {},
   "source": [
    "Probamos con Arbol de Decision"
   ]
  },
  {
   "cell_type": "code",
   "execution_count": 48,
   "metadata": {},
   "outputs": [],
   "source": [
    "from sklearn.tree import DecisionTreeClassifier\n",
    "from sklearn.ensemble import BaggingClassifier, RandomForestClassifier\n",
    "\n",
    "pipeline = Pipeline([('union', union), \n",
    "                     ('clasificador', DecisionTreeClassifier())])\n",
    "\n",
    "parameters = {'clasificador__criterion': ['gini', 'entropy'],\n",
    "          'clasificador__splitter': ['best', 'random'],\n",
    "          'clasificador__max_depth': [None, 5, 10],\n",
    "          'clasificador__min_samples_split': [2, 5],\n",
    "          'clasificador__min_samples_leaf': [1, 2, 3]}\n",
    "            \n",
    "    \n"
   ]
  },
  {
   "cell_type": "code",
   "execution_count": 49,
   "metadata": {},
   "outputs": [],
   "source": [
    "from sklearn.model_selection import StratifiedKFold\n",
    "\n",
    "folds=StratifiedKFold(n_splits=5,shuffle=True, random_state=42)\n",
    "\n",
    "grid_search = GridSearchCV (pipeline, parameters,cv=folds, n_jobs = 5)"
   ]
  },
  {
   "cell_type": "code",
   "execution_count": 50,
   "metadata": {},
   "outputs": [
    {
     "data": {
      "text/plain": [
       "GridSearchCV(cv=StratifiedKFold(n_splits=5, random_state=42, shuffle=True),\n",
       "             estimator=Pipeline(steps=[('union',\n",
       "                                        Pipeline(steps=[('standardscaler',\n",
       "                                                         StandardScaler())])),\n",
       "                                       ('clasificador',\n",
       "                                        DecisionTreeClassifier())]),\n",
       "             n_jobs=5,\n",
       "             param_grid={'clasificador__criterion': ['gini', 'entropy'],\n",
       "                         'clasificador__max_depth': [None, 5, 10],\n",
       "                         'clasificador__min_samples_leaf': [1, 2, 3],\n",
       "                         'clasificador__min_samples_split': [2, 5],\n",
       "                         'clasificador__splitter': ['best', 'random']})"
      ]
     },
     "execution_count": 50,
     "metadata": {},
     "output_type": "execute_result"
    }
   ],
   "source": [
    "grid_search.fit(pd.DataFrame(X_train_us, columns=X.columns), y_train_us)"
   ]
  },
  {
   "cell_type": "code",
   "execution_count": 51,
   "metadata": {},
   "outputs": [
    {
     "name": "stdout",
     "output_type": "stream",
     "text": [
      "Best score: 0.700\n",
      "Best parameters set:\n",
      "\t clasificador__criterion: 'gini'\n",
      "\t clasificador__max_depth: 5\n",
      "\t clasificador__min_samples_leaf: 3\n",
      "\t clasificador__min_samples_split: 2\n",
      "\t clasificador__splitter: 'best'\n"
     ]
    }
   ],
   "source": [
    "print(\"Best score: %0.3f\" % grid_search.best_score_) \n",
    "print(\"Best parameters set:\" )\n",
    "best_parameters = grid_search.best_estimator_.get_params()\n",
    "for param_name in sorted (parameters . keys()): \n",
    "                    print(\"\\t %s: %r\" % (param_name, best_parameters[param_name])) "
   ]
  },
  {
   "cell_type": "code",
   "execution_count": 52,
   "metadata": {},
   "outputs": [],
   "source": [
    "y_pred = grid_search.best_estimator_.predict(X_test)"
   ]
  },
  {
   "cell_type": "code",
   "execution_count": 53,
   "metadata": {},
   "outputs": [
    {
     "name": "stdout",
     "output_type": "stream",
     "text": [
      "              precision    recall  f1-score   support\n",
      "\n",
      "           0       0.99      0.62      0.76      4785\n",
      "           1       0.09      0.80      0.16       215\n",
      "\n",
      "    accuracy                           0.63      5000\n",
      "   macro avg       0.54      0.71      0.46      5000\n",
      "weighted avg       0.95      0.63      0.74      5000\n",
      "\n",
      "0.6276\n"
     ]
    }
   ],
   "source": [
    "print(classification_report(y_test, y_pred))\n",
    "print(accuracy_score(y_test, y_pred))"
   ]
  },
  {
   "cell_type": "code",
   "execution_count": 54,
   "metadata": {},
   "outputs": [
    {
     "data": {
      "text/plain": [
       "Text(33.0, 0.5, 'Reales')"
      ]
     },
     "execution_count": 54,
     "metadata": {},
     "output_type": "execute_result"
    },
    {
     "data": {
      "image/png": "[encoded data removed]",
      "text/plain": [
       "<Figure size 432x288 with 2 Axes>"
      ]
     },
     "metadata": {
      "needs_background": "light"
     },
     "output_type": "display_data"
    }
   ],
   "source": [
    "sns.heatmap(confusion_matrix(y_test, y_pred), annot=True, fmt='4d')\n",
    "plt.xlabel('Predichos')\n",
    "plt.ylabel('Reales')"
   ]
  },
  {
   "cell_type": "markdown",
   "metadata": {},
   "source": [
    "Probamos con Random Forest"
   ]
  },
  {
   "cell_type": "code",
   "execution_count": 55,
   "metadata": {},
   "outputs": [],
   "source": [
    "pipeline = Pipeline([('union', union), \n",
    "                     ('clasificador',RandomForestClassifier())])\n",
    "\n",
    "parameters = {'clasificador__n_estimators':[3, 5, 10, 50],\n",
    "          'clasificador__criterion': ['gini', 'entropy'],\n",
    "          'clasificador__max_depth': [None, 3, 5],\n",
    "          'clasificador__min_samples_split': [2,5],\n",
    "          'clasificador__class_weight':[None, 'balanced']}\n",
    "\n",
    "\n",
    "                    "
   ]
  },
  {
   "cell_type": "code",
   "execution_count": 56,
   "metadata": {},
   "outputs": [],
   "source": [
    "from sklearn.model_selection import StratifiedKFold\n",
    "\n",
    "folds=StratifiedKFold(n_splits=5,shuffle=True, random_state=42)\n",
    "grid_search = GridSearchCV (pipeline, parameters,cv=folds, n_jobs = 5)"
   ]
  },
  {
   "cell_type": "code",
   "execution_count": 57,
   "metadata": {},
   "outputs": [
    {
     "data": {
      "text/plain": [
       "GridSearchCV(cv=StratifiedKFold(n_splits=5, random_state=42, shuffle=True),\n",
       "             estimator=Pipeline(steps=[('union',\n",
       "                                        Pipeline(steps=[('standardscaler',\n",
       "                                                         StandardScaler())])),\n",
       "                                       ('clasificador',\n",
       "                                        RandomForestClassifier())]),\n",
       "             n_jobs=5,\n",
       "             param_grid={'clasificador__class_weight': [None, 'balanced'],\n",
       "                         'clasificador__criterion': ['gini', 'entropy'],\n",
       "                         'clasificador__max_depth': [None, 3, 5],\n",
       "                         'clasificador__min_samples_split': [2, 5],\n",
       "                         'clasificador__n_estimators': [3, 5, 10, 50]})"
      ]
     },
     "execution_count": 57,
     "metadata": {},
     "output_type": "execute_result"
    }
   ],
   "source": [
    "grid_search.fit(pd.DataFrame(X_train_us, columns=X.columns), y_train_us)"
   ]
  },
  {
   "cell_type": "code",
   "execution_count": 58,
   "metadata": {},
   "outputs": [
    {
     "name": "stdout",
     "output_type": "stream",
     "text": [
      "Best score: 0.774\n",
      "Best parameters set:\n",
      "\t clasificador__class_weight: None\n",
      "\t clasificador__criterion: 'gini'\n",
      "\t clasificador__max_depth: None\n",
      "\t clasificador__min_samples_split: 2\n",
      "\t clasificador__n_estimators: 50\n"
     ]
    }
   ],
   "source": [
    "print(\"Best score: %0.3f\" % grid_search.best_score_) \n",
    "print(\"Best parameters set:\" )\n",
    "best_parameters = grid_search.best_estimator_.get_params()\n",
    "for param_name in sorted (parameters . keys()): \n",
    "                    print(\"\\t %s: %r\" % (param_name, best_parameters[param_name])) "
   ]
  },
  {
   "cell_type": "code",
   "execution_count": 59,
   "metadata": {},
   "outputs": [],
   "source": [
    "y_pred = grid_search.best_estimator_.predict(X_test)"
   ]
  },
  {
   "cell_type": "code",
   "execution_count": 60,
   "metadata": {},
   "outputs": [
    {
     "name": "stdout",
     "output_type": "stream",
     "text": [
      "              precision    recall  f1-score   support\n",
      "\n",
      "           0       0.99      0.76      0.86      4785\n",
      "           1       0.13      0.79      0.22       215\n",
      "\n",
      "    accuracy                           0.76      5000\n",
      "   macro avg       0.56      0.77      0.54      5000\n",
      "weighted avg       0.95      0.76      0.83      5000\n",
      "\n",
      "0.7582\n"
     ]
    }
   ],
   "source": [
    "print(classification_report(y_test, y_pred))\n",
    "print(accuracy_score(y_test, y_pred))"
   ]
  },
  {
   "cell_type": "code",
   "execution_count": 61,
   "metadata": {},
   "outputs": [
    {
     "data": {
      "text/plain": [
       "Text(33.0, 0.5, 'Reales')"
      ]
     },
     "execution_count": 61,
     "metadata": {},
     "output_type": "execute_result"
    },
    {
     "data": {
      "image/png": "[encoded data removed]",
      "text/plain": [
       "<Figure size 432x288 with 2 Axes>"
      ]
     },
     "metadata": {
      "needs_background": "light"
     },
     "output_type": "display_data"
    }
   ],
   "source": [
    "sns.heatmap(confusion_matrix(y_test, y_pred), annot=True, fmt='4d')\n",
    "plt.xlabel('Predichos')\n",
    "plt.ylabel('Reales')"
   ]
  },
  {
   "cell_type": "code",
   "execution_count": 62,
   "metadata": {},
   "outputs": [
    {
     "data": {
      "text/plain": [
       "Pipeline(steps=[('union',\n",
       "                 Pipeline(steps=[('standardscaler', StandardScaler())])),\n",
       "                ('clasificador', RandomForestClassifier(n_estimators=50))])"
      ]
     },
     "execution_count": 62,
     "metadata": {},
     "output_type": "execute_result"
    }
   ],
   "source": [
    "feature_names = grid_search.best_estimator_\n",
    "feature_names"
   ]
  },
  {
   "cell_type": "markdown",
   "metadata": {},
   "source": [
    "Analizo peso de variables en modelo ganador (TOP 50)"
   ]
  },
  {
   "cell_type": "code",
   "execution_count": 63,
   "metadata": {},
   "outputs": [
    {
     "data": {
      "text/html": [
       "\n",
       "    <style>\n",
       "    table.eli5-weights tr:hover {\n",
       "        filter: brightness(85%);\n",
       "    }\n",
       "</style>\n",
       "\n",
       "\n",
       "\n",
       "    \n",
       "\n",
       "    \n",
       "\n",
       "    \n",
       "\n",
       "    \n",
       "\n",
       "    \n",
       "\n",
       "    \n",
       "\n",
       "\n",
       "    \n",
       "\n",
       "    \n",
       "\n",
       "    \n",
       "\n",
       "    \n",
       "\n",
       "    \n",
       "\n",
       "    \n",
       "\n",
       "\n",
       "    \n",
       "\n",
       "    \n",
       "\n",
       "    \n",
       "\n",
       "    \n",
       "\n",
       "    \n",
       "        <table class=\"eli5-weights eli5-feature-importances\" style=\"border-collapse: collapse; border: none; margin-top: 0em; table-layout: auto;\">\n",
       "    <thead>\n",
       "    <tr style=\"border: none;\">\n",
       "        <th style=\"padding: 0 1em 0 0.5em; text-align: right; border: none;\">Weight</th>\n",
       "        <th style=\"padding: 0 0.5em 0 0.5em; text-align: left; border: none;\">Feature</th>\n",
       "    </tr>\n",
       "    </thead>\n",
       "    <tbody>\n",
       "    \n",
       "        <tr style=\"background-color: hsl(120, 100.00%, 80.00%); border: none;\">\n",
       "            <td style=\"padding: 0 1em 0 0.5em; text-align: right; border: none;\">\n",
       "                0.0320\n",
       "                \n",
       "                    &plusmn; 0.0674\n",
       "                \n",
       "            </td>\n",
       "            <td style=\"padding: 0 0.5em 0 0.5em; text-align: left; border: none;\">\n",
       "                ap39_04_4.0\n",
       "            </td>\n",
       "        </tr>\n",
       "    \n",
       "        <tr style=\"background-color: hsl(120, 100.00%, 83.44%); border: none;\">\n",
       "            <td style=\"padding: 0 1em 0 0.5em; text-align: right; border: none;\">\n",
       "                0.0244\n",
       "                \n",
       "                    &plusmn; 0.0638\n",
       "                \n",
       "            </td>\n",
       "            <td style=\"padding: 0 0.5em 0 0.5em; text-align: left; border: none;\">\n",
       "                isocioa_3.0\n",
       "            </td>\n",
       "        </tr>\n",
       "    \n",
       "        <tr style=\"background-color: hsl(120, 100.00%, 84.01%); border: none;\">\n",
       "            <td style=\"padding: 0 1em 0 0.5em; text-align: right; border: none;\">\n",
       "                0.0232\n",
       "                \n",
       "                    &plusmn; 0.0521\n",
       "                \n",
       "            </td>\n",
       "            <td style=\"padding: 0 0.5em 0 0.5em; text-align: left; border: none;\">\n",
       "                ap40_01_4.0\n",
       "            </td>\n",
       "        </tr>\n",
       "    \n",
       "        <tr style=\"background-color: hsl(120, 100.00%, 84.19%); border: none;\">\n",
       "            <td style=\"padding: 0 1em 0 0.5em; text-align: right; border: none;\">\n",
       "                0.0228\n",
       "                \n",
       "                    &plusmn; 0.0495\n",
       "                \n",
       "            </td>\n",
       "            <td style=\"padding: 0 0.5em 0 0.5em; text-align: left; border: none;\">\n",
       "                sector_2\n",
       "            </td>\n",
       "        </tr>\n",
       "    \n",
       "        <tr style=\"background-color: hsl(120, 100.00%, 86.38%); border: none;\">\n",
       "            <td style=\"padding: 0 1em 0 0.5em; text-align: right; border: none;\">\n",
       "                0.0185\n",
       "                \n",
       "                    &plusmn; 0.0507\n",
       "                \n",
       "            </td>\n",
       "            <td style=\"padding: 0 0.5em 0 0.5em; text-align: left; border: none;\">\n",
       "                ap17_6.0\n",
       "            </td>\n",
       "        </tr>\n",
       "    \n",
       "        <tr style=\"background-color: hsl(120, 100.00%, 86.90%); border: none;\">\n",
       "            <td style=\"padding: 0 1em 0 0.5em; text-align: right; border: none;\">\n",
       "                0.0175\n",
       "                \n",
       "                    &plusmn; 0.0449\n",
       "                \n",
       "            </td>\n",
       "            <td style=\"padding: 0 0.5em 0 0.5em; text-align: left; border: none;\">\n",
       "                ap39_04_2.0\n",
       "            </td>\n",
       "        </tr>\n",
       "    \n",
       "        <tr style=\"background-color: hsl(120, 100.00%, 87.77%); border: none;\">\n",
       "            <td style=\"padding: 0 1em 0 0.5em; text-align: right; border: none;\">\n",
       "                0.0158\n",
       "                \n",
       "                    &plusmn; 0.0351\n",
       "                \n",
       "            </td>\n",
       "            <td style=\"padding: 0 0.5em 0 0.5em; text-align: left; border: none;\">\n",
       "                ap24_1.0\n",
       "            </td>\n",
       "        </tr>\n",
       "    \n",
       "        <tr style=\"background-color: hsl(120, 100.00%, 87.86%); border: none;\">\n",
       "            <td style=\"padding: 0 1em 0 0.5em; text-align: right; border: none;\">\n",
       "                0.0157\n",
       "                \n",
       "                    &plusmn; 0.0382\n",
       "                \n",
       "            </td>\n",
       "            <td style=\"padding: 0 0.5em 0 0.5em; text-align: left; border: none;\">\n",
       "                ap16_6.0\n",
       "            </td>\n",
       "        </tr>\n",
       "    \n",
       "        <tr style=\"background-color: hsl(120, 100.00%, 88.31%); border: none;\">\n",
       "            <td style=\"padding: 0 1em 0 0.5em; text-align: right; border: none;\">\n",
       "                0.0148\n",
       "                \n",
       "                    &plusmn; 0.0385\n",
       "                \n",
       "            </td>\n",
       "            <td style=\"padding: 0 0.5em 0 0.5em; text-align: left; border: none;\">\n",
       "                ap14_02_1.0\n",
       "            </td>\n",
       "        </tr>\n",
       "    \n",
       "        <tr style=\"background-color: hsl(120, 100.00%, 89.62%); border: none;\">\n",
       "            <td style=\"padding: 0 1em 0 0.5em; text-align: right; border: none;\">\n",
       "                0.0125\n",
       "                \n",
       "                    &plusmn; 0.0352\n",
       "                \n",
       "            </td>\n",
       "            <td style=\"padding: 0 0.5em 0 0.5em; text-align: left; border: none;\">\n",
       "                ap40_02_4.0\n",
       "            </td>\n",
       "        </tr>\n",
       "    \n",
       "        <tr style=\"background-color: hsl(120, 100.00%, 90.64%); border: none;\">\n",
       "            <td style=\"padding: 0 1em 0 0.5em; text-align: right; border: none;\">\n",
       "                0.0108\n",
       "                \n",
       "                    &plusmn; 0.0303\n",
       "                \n",
       "            </td>\n",
       "            <td style=\"padding: 0 0.5em 0 0.5em; text-align: left; border: none;\">\n",
       "                ap40_01_1.0\n",
       "            </td>\n",
       "        </tr>\n",
       "    \n",
       "        <tr style=\"background-color: hsl(120, 100.00%, 90.87%); border: none;\">\n",
       "            <td style=\"padding: 0 1em 0 0.5em; text-align: right; border: none;\">\n",
       "                0.0104\n",
       "                \n",
       "                    &plusmn; 0.0283\n",
       "                \n",
       "            </td>\n",
       "            <td style=\"padding: 0 0.5em 0 0.5em; text-align: left; border: none;\">\n",
       "                ap40_02_1.0\n",
       "            </td>\n",
       "        </tr>\n",
       "    \n",
       "        <tr style=\"background-color: hsl(120, 100.00%, 90.90%); border: none;\">\n",
       "            <td style=\"padding: 0 1em 0 0.5em; text-align: right; border: none;\">\n",
       "                0.0104\n",
       "                \n",
       "                    &plusmn; 0.0236\n",
       "                \n",
       "            </td>\n",
       "            <td style=\"padding: 0 0.5em 0 0.5em; text-align: left; border: none;\">\n",
       "                ap23_02_1.0\n",
       "            </td>\n",
       "        </tr>\n",
       "    \n",
       "        <tr style=\"background-color: hsl(120, 100.00%, 91.84%); border: none;\">\n",
       "            <td style=\"padding: 0 1em 0 0.5em; text-align: right; border: none;\">\n",
       "                0.0089\n",
       "                \n",
       "                    &plusmn; 0.0228\n",
       "                \n",
       "            </td>\n",
       "            <td style=\"padding: 0 0.5em 0 0.5em; text-align: left; border: none;\">\n",
       "                isocioa_2.0\n",
       "            </td>\n",
       "        </tr>\n",
       "    \n",
       "        <tr style=\"background-color: hsl(120, 100.00%, 91.86%); border: none;\">\n",
       "            <td style=\"padding: 0 1em 0 0.5em; text-align: right; border: none;\">\n",
       "                0.0088\n",
       "                \n",
       "                    &plusmn; 0.0188\n",
       "                \n",
       "            </td>\n",
       "            <td style=\"padding: 0 0.5em 0 0.5em; text-align: left; border: none;\">\n",
       "                ap51_08_1.0\n",
       "            </td>\n",
       "        </tr>\n",
       "    \n",
       "        <tr style=\"background-color: hsl(120, 100.00%, 92.24%); border: none;\">\n",
       "            <td style=\"padding: 0 1em 0 0.5em; text-align: right; border: none;\">\n",
       "                0.0083\n",
       "                \n",
       "                    &plusmn; 0.0269\n",
       "                \n",
       "            </td>\n",
       "            <td style=\"padding: 0 0.5em 0 0.5em; text-align: left; border: none;\">\n",
       "                ap14_02_2.0\n",
       "            </td>\n",
       "        </tr>\n",
       "    \n",
       "        <tr style=\"background-color: hsl(120, 100.00%, 92.43%); border: none;\">\n",
       "            <td style=\"padding: 0 1em 0 0.5em; text-align: right; border: none;\">\n",
       "                0.0080\n",
       "                \n",
       "                    &plusmn; 0.0141\n",
       "                \n",
       "            </td>\n",
       "            <td style=\"padding: 0 0.5em 0 0.5em; text-align: left; border: none;\">\n",
       "                ap51_05_5.0\n",
       "            </td>\n",
       "        </tr>\n",
       "    \n",
       "        <tr style=\"background-color: hsl(120, 100.00%, 92.91%); border: none;\">\n",
       "            <td style=\"padding: 0 1em 0 0.5em; text-align: right; border: none;\">\n",
       "                0.0073\n",
       "                \n",
       "                    &plusmn; 0.0164\n",
       "                \n",
       "            </td>\n",
       "            <td style=\"padding: 0 0.5em 0 0.5em; text-align: left; border: none;\">\n",
       "                ap50_02_3.0\n",
       "            </td>\n",
       "        </tr>\n",
       "    \n",
       "        <tr style=\"background-color: hsl(120, 100.00%, 93.06%); border: none;\">\n",
       "            <td style=\"padding: 0 1em 0 0.5em; text-align: right; border: none;\">\n",
       "                0.0070\n",
       "                \n",
       "                    &plusmn; 0.0137\n",
       "                \n",
       "            </td>\n",
       "            <td style=\"padding: 0 0.5em 0 0.5em; text-align: left; border: none;\">\n",
       "                ap51_06_1.0\n",
       "            </td>\n",
       "        </tr>\n",
       "    \n",
       "        <tr style=\"background-color: hsl(120, 100.00%, 93.21%); border: none;\">\n",
       "            <td style=\"padding: 0 1em 0 0.5em; text-align: right; border: none;\">\n",
       "                0.0068\n",
       "                \n",
       "                    &plusmn; 0.0126\n",
       "                \n",
       "            </td>\n",
       "            <td style=\"padding: 0 0.5em 0 0.5em; text-align: left; border: none;\">\n",
       "                ap49_01_3.0\n",
       "            </td>\n",
       "        </tr>\n",
       "    \n",
       "        <tr style=\"background-color: hsl(120, 100.00%, 93.25%); border: none;\">\n",
       "            <td style=\"padding: 0 1em 0 0.5em; text-align: right; border: none;\">\n",
       "                0.0068\n",
       "                \n",
       "                    &plusmn; 0.0151\n",
       "                \n",
       "            </td>\n",
       "            <td style=\"padding: 0 0.5em 0 0.5em; text-align: left; border: none;\">\n",
       "                ap34_2.0\n",
       "            </td>\n",
       "        </tr>\n",
       "    \n",
       "        <tr style=\"background-color: hsl(120, 100.00%, 93.27%); border: none;\">\n",
       "            <td style=\"padding: 0 1em 0 0.5em; text-align: right; border: none;\">\n",
       "                0.0067\n",
       "                \n",
       "                    &plusmn; 0.0143\n",
       "                \n",
       "            </td>\n",
       "            <td style=\"padding: 0 0.5em 0 0.5em; text-align: left; border: none;\">\n",
       "                ap23_01_2.0\n",
       "            </td>\n",
       "        </tr>\n",
       "    \n",
       "        <tr style=\"background-color: hsl(120, 100.00%, 93.40%); border: none;\">\n",
       "            <td style=\"padding: 0 1em 0 0.5em; text-align: right; border: none;\">\n",
       "                0.0066\n",
       "                \n",
       "                    &plusmn; 0.0131\n",
       "                \n",
       "            </td>\n",
       "            <td style=\"padding: 0 0.5em 0 0.5em; text-align: left; border: none;\">\n",
       "                ap43_a_2.0\n",
       "            </td>\n",
       "        </tr>\n",
       "    \n",
       "        <tr style=\"background-color: hsl(120, 100.00%, 93.58%); border: none;\">\n",
       "            <td style=\"padding: 0 1em 0 0.5em; text-align: right; border: none;\">\n",
       "                0.0063\n",
       "                \n",
       "                    &plusmn; 0.0114\n",
       "                \n",
       "            </td>\n",
       "            <td style=\"padding: 0 0.5em 0 0.5em; text-align: left; border: none;\">\n",
       "                ap40_01_3.0\n",
       "            </td>\n",
       "        </tr>\n",
       "    \n",
       "        <tr style=\"background-color: hsl(120, 100.00%, 93.70%); border: none;\">\n",
       "            <td style=\"padding: 0 1em 0 0.5em; text-align: right; border: none;\">\n",
       "                0.0061\n",
       "                \n",
       "                    &plusmn; 0.0096\n",
       "                \n",
       "            </td>\n",
       "            <td style=\"padding: 0 0.5em 0 0.5em; text-align: left; border: none;\">\n",
       "                ap43_a_1.0\n",
       "            </td>\n",
       "        </tr>\n",
       "    \n",
       "        <tr style=\"background-color: hsl(120, 100.00%, 93.79%); border: none;\">\n",
       "            <td style=\"padding: 0 1em 0 0.5em; text-align: right; border: none;\">\n",
       "                0.0060\n",
       "                \n",
       "                    &plusmn; 0.0115\n",
       "                \n",
       "            </td>\n",
       "            <td style=\"padding: 0 0.5em 0 0.5em; text-align: left; border: none;\">\n",
       "                ap49_01_2.0\n",
       "            </td>\n",
       "        </tr>\n",
       "    \n",
       "        <tr style=\"background-color: hsl(120, 100.00%, 93.79%); border: none;\">\n",
       "            <td style=\"padding: 0 1em 0 0.5em; text-align: right; border: none;\">\n",
       "                0.0060\n",
       "                \n",
       "                    &plusmn; 0.0156\n",
       "                \n",
       "            </td>\n",
       "            <td style=\"padding: 0 0.5em 0 0.5em; text-align: left; border: none;\">\n",
       "                ap40_02_3.0\n",
       "            </td>\n",
       "        </tr>\n",
       "    \n",
       "        <tr style=\"background-color: hsl(120, 100.00%, 93.82%); border: none;\">\n",
       "            <td style=\"padding: 0 1em 0 0.5em; text-align: right; border: none;\">\n",
       "                0.0060\n",
       "                \n",
       "                    &plusmn; 0.0123\n",
       "                \n",
       "            </td>\n",
       "            <td style=\"padding: 0 0.5em 0 0.5em; text-align: left; border: none;\">\n",
       "                ap24_2.0\n",
       "            </td>\n",
       "        </tr>\n",
       "    \n",
       "        <tr style=\"background-color: hsl(120, 100.00%, 93.85%); border: none;\">\n",
       "            <td style=\"padding: 0 1em 0 0.5em; text-align: right; border: none;\">\n",
       "                0.0059\n",
       "                \n",
       "                    &plusmn; 0.0148\n",
       "                \n",
       "            </td>\n",
       "            <td style=\"padding: 0 0.5em 0 0.5em; text-align: left; border: none;\">\n",
       "                ap40_04_4.0\n",
       "            </td>\n",
       "        </tr>\n",
       "    \n",
       "        <tr style=\"background-color: hsl(120, 100.00%, 93.86%); border: none;\">\n",
       "            <td style=\"padding: 0 1em 0 0.5em; text-align: right; border: none;\">\n",
       "                0.0059\n",
       "                \n",
       "                    &plusmn; 0.0107\n",
       "                \n",
       "            </td>\n",
       "            <td style=\"padding: 0 0.5em 0 0.5em; text-align: left; border: none;\">\n",
       "                ap40_02_2.0\n",
       "            </td>\n",
       "        </tr>\n",
       "    \n",
       "        <tr style=\"background-color: hsl(120, 100.00%, 93.90%); border: none;\">\n",
       "            <td style=\"padding: 0 1em 0 0.5em; text-align: right; border: none;\">\n",
       "                0.0059\n",
       "                \n",
       "                    &plusmn; 0.0206\n",
       "                \n",
       "            </td>\n",
       "            <td style=\"padding: 0 0.5em 0 0.5em; text-align: left; border: none;\">\n",
       "                ap11_08_2.0\n",
       "            </td>\n",
       "        </tr>\n",
       "    \n",
       "        <tr style=\"background-color: hsl(120, 100.00%, 93.91%); border: none;\">\n",
       "            <td style=\"padding: 0 1em 0 0.5em; text-align: right; border: none;\">\n",
       "                0.0058\n",
       "                \n",
       "                    &plusmn; 0.0204\n",
       "                \n",
       "            </td>\n",
       "            <td style=\"padding: 0 0.5em 0 0.5em; text-align: left; border: none;\">\n",
       "                ap16_3.0\n",
       "            </td>\n",
       "        </tr>\n",
       "    \n",
       "        <tr style=\"background-color: hsl(120, 100.00%, 94.00%); border: none;\">\n",
       "            <td style=\"padding: 0 1em 0 0.5em; text-align: right; border: none;\">\n",
       "                0.0057\n",
       "                \n",
       "                    &plusmn; 0.0099\n",
       "                \n",
       "            </td>\n",
       "            <td style=\"padding: 0 0.5em 0 0.5em; text-align: left; border: none;\">\n",
       "                ap50_02_2.0\n",
       "            </td>\n",
       "        </tr>\n",
       "    \n",
       "        <tr style=\"background-color: hsl(120, 100.00%, 94.01%); border: none;\">\n",
       "            <td style=\"padding: 0 1em 0 0.5em; text-align: right; border: none;\">\n",
       "                0.0057\n",
       "                \n",
       "                    &plusmn; 0.0126\n",
       "                \n",
       "            </td>\n",
       "            <td style=\"padding: 0 0.5em 0 0.5em; text-align: left; border: none;\">\n",
       "                ap51_05_4.0\n",
       "            </td>\n",
       "        </tr>\n",
       "    \n",
       "        <tr style=\"background-color: hsl(120, 100.00%, 94.12%); border: none;\">\n",
       "            <td style=\"padding: 0 1em 0 0.5em; text-align: right; border: none;\">\n",
       "                0.0056\n",
       "                \n",
       "                    &plusmn; 0.0094\n",
       "                \n",
       "            </td>\n",
       "            <td style=\"padding: 0 0.5em 0 0.5em; text-align: left; border: none;\">\n",
       "                ap49_01_1.0\n",
       "            </td>\n",
       "        </tr>\n",
       "    \n",
       "        <tr style=\"background-color: hsl(120, 100.00%, 94.16%); border: none;\">\n",
       "            <td style=\"padding: 0 1em 0 0.5em; text-align: right; border: none;\">\n",
       "                0.0055\n",
       "                \n",
       "                    &plusmn; 0.0125\n",
       "                \n",
       "            </td>\n",
       "            <td style=\"padding: 0 0.5em 0 0.5em; text-align: left; border: none;\">\n",
       "                cod_provincia_6\n",
       "            </td>\n",
       "        </tr>\n",
       "    \n",
       "        <tr style=\"background-color: hsl(120, 100.00%, 94.17%); border: none;\">\n",
       "            <td style=\"padding: 0 1em 0 0.5em; text-align: right; border: none;\">\n",
       "                0.0055\n",
       "                \n",
       "                    &plusmn; 0.0136\n",
       "                \n",
       "            </td>\n",
       "            <td style=\"padding: 0 0.5em 0 0.5em; text-align: left; border: none;\">\n",
       "                ap23_02_2.0\n",
       "            </td>\n",
       "        </tr>\n",
       "    \n",
       "        <tr style=\"background-color: hsl(120, 100.00%, 94.21%); border: none;\">\n",
       "            <td style=\"padding: 0 1em 0 0.5em; text-align: right; border: none;\">\n",
       "                0.0054\n",
       "                \n",
       "                    &plusmn; 0.0141\n",
       "                \n",
       "            </td>\n",
       "            <td style=\"padding: 0 0.5em 0 0.5em; text-align: left; border: none;\">\n",
       "                ap17_3.0\n",
       "            </td>\n",
       "        </tr>\n",
       "    \n",
       "        <tr style=\"background-color: hsl(120, 100.00%, 94.26%); border: none;\">\n",
       "            <td style=\"padding: 0 1em 0 0.5em; text-align: right; border: none;\">\n",
       "                0.0054\n",
       "                \n",
       "                    &plusmn; 0.0102\n",
       "                \n",
       "            </td>\n",
       "            <td style=\"padding: 0 0.5em 0 0.5em; text-align: left; border: none;\">\n",
       "                ap02_2.0\n",
       "            </td>\n",
       "        </tr>\n",
       "    \n",
       "        <tr style=\"background-color: hsl(120, 100.00%, 94.31%); border: none;\">\n",
       "            <td style=\"padding: 0 1em 0 0.5em; text-align: right; border: none;\">\n",
       "                0.0053\n",
       "                \n",
       "                    &plusmn; 0.0126\n",
       "                \n",
       "            </td>\n",
       "            <td style=\"padding: 0 0.5em 0 0.5em; text-align: left; border: none;\">\n",
       "                trabaja_fuera_hogar_remunerado_3.0\n",
       "            </td>\n",
       "        </tr>\n",
       "    \n",
       "        <tr style=\"background-color: hsl(120, 100.00%, 94.33%); border: none;\">\n",
       "            <td style=\"padding: 0 1em 0 0.5em; text-align: right; border: none;\">\n",
       "                0.0053\n",
       "                \n",
       "                    &plusmn; 0.0106\n",
       "                \n",
       "            </td>\n",
       "            <td style=\"padding: 0 0.5em 0 0.5em; text-align: left; border: none;\">\n",
       "                ap40_05_4.0\n",
       "            </td>\n",
       "        </tr>\n",
       "    \n",
       "        <tr style=\"background-color: hsl(120, 100.00%, 94.35%); border: none;\">\n",
       "            <td style=\"padding: 0 1em 0 0.5em; text-align: right; border: none;\">\n",
       "                0.0052\n",
       "                \n",
       "                    &plusmn; 0.0109\n",
       "                \n",
       "            </td>\n",
       "            <td style=\"padding: 0 0.5em 0 0.5em; text-align: left; border: none;\">\n",
       "                ap28_01_4.0\n",
       "            </td>\n",
       "        </tr>\n",
       "    \n",
       "        <tr style=\"background-color: hsl(120, 100.00%, 94.38%); border: none;\">\n",
       "            <td style=\"padding: 0 1em 0 0.5em; text-align: right; border: none;\">\n",
       "                0.0052\n",
       "                \n",
       "                    &plusmn; 0.0096\n",
       "                \n",
       "            </td>\n",
       "            <td style=\"padding: 0 0.5em 0 0.5em; text-align: left; border: none;\">\n",
       "                ap23_06_2.0\n",
       "            </td>\n",
       "        </tr>\n",
       "    \n",
       "        <tr style=\"background-color: hsl(120, 100.00%, 94.44%); border: none;\">\n",
       "            <td style=\"padding: 0 1em 0 0.5em; text-align: right; border: none;\">\n",
       "                0.0051\n",
       "                \n",
       "                    &plusmn; 0.0139\n",
       "                \n",
       "            </td>\n",
       "            <td style=\"padding: 0 0.5em 0 0.5em; text-align: left; border: none;\">\n",
       "                trabaja_fuera_hogar_2.0\n",
       "            </td>\n",
       "        </tr>\n",
       "    \n",
       "        <tr style=\"background-color: hsl(120, 100.00%, 94.44%); border: none;\">\n",
       "            <td style=\"padding: 0 1em 0 0.5em; text-align: right; border: none;\">\n",
       "                0.0051\n",
       "                \n",
       "                    &plusmn; 0.0105\n",
       "                \n",
       "            </td>\n",
       "            <td style=\"padding: 0 0.5em 0 0.5em; text-align: left; border: none;\">\n",
       "                ap51_02_4.0\n",
       "            </td>\n",
       "        </tr>\n",
       "    \n",
       "        <tr style=\"background-color: hsl(120, 100.00%, 94.48%); border: none;\">\n",
       "            <td style=\"padding: 0 1em 0 0.5em; text-align: right; border: none;\">\n",
       "                0.0051\n",
       "                \n",
       "                    &plusmn; 0.0116\n",
       "                \n",
       "            </td>\n",
       "            <td style=\"padding: 0 0.5em 0 0.5em; text-align: left; border: none;\">\n",
       "                ap51_01_5.0\n",
       "            </td>\n",
       "        </tr>\n",
       "    \n",
       "        <tr style=\"background-color: hsl(120, 100.00%, 94.52%); border: none;\">\n",
       "            <td style=\"padding: 0 1em 0 0.5em; text-align: right; border: none;\">\n",
       "                0.0050\n",
       "                \n",
       "                    &plusmn; 0.0085\n",
       "                \n",
       "            </td>\n",
       "            <td style=\"padding: 0 0.5em 0 0.5em; text-align: left; border: none;\">\n",
       "                ap35_03_3.0\n",
       "            </td>\n",
       "        </tr>\n",
       "    \n",
       "        <tr style=\"background-color: hsl(120, 100.00%, 94.54%); border: none;\">\n",
       "            <td style=\"padding: 0 1em 0 0.5em; text-align: right; border: none;\">\n",
       "                0.0050\n",
       "                \n",
       "                    &plusmn; 0.0089\n",
       "                \n",
       "            </td>\n",
       "            <td style=\"padding: 0 0.5em 0 0.5em; text-align: left; border: none;\">\n",
       "                ap42_01_1.0\n",
       "            </td>\n",
       "        </tr>\n",
       "    \n",
       "        <tr style=\"background-color: hsl(120, 100.00%, 94.55%); border: none;\">\n",
       "            <td style=\"padding: 0 1em 0 0.5em; text-align: right; border: none;\">\n",
       "                0.0050\n",
       "                \n",
       "                    &plusmn; 0.0087\n",
       "                \n",
       "            </td>\n",
       "            <td style=\"padding: 0 0.5em 0 0.5em; text-align: left; border: none;\">\n",
       "                ap07_3.0\n",
       "            </td>\n",
       "        </tr>\n",
       "    \n",
       "        <tr style=\"background-color: hsl(120, 100.00%, 94.57%); border: none;\">\n",
       "            <td style=\"padding: 0 1em 0 0.5em; text-align: right; border: none;\">\n",
       "                0.0050\n",
       "                \n",
       "                    &plusmn; 0.0110\n",
       "                \n",
       "            </td>\n",
       "            <td style=\"padding: 0 0.5em 0 0.5em; text-align: left; border: none;\">\n",
       "                ap51_08_2.0\n",
       "            </td>\n",
       "        </tr>\n",
       "    \n",
       "    \n",
       "        \n",
       "            <tr style=\"background-color: hsl(120, 100.00%, 94.57%); border: none;\">\n",
       "                <td colspan=\"2\" style=\"padding: 0 0.5em 0 0.5em; text-align: center; border: none; white-space: nowrap;\">\n",
       "                    <i>&hellip; 256 more &hellip;</i>\n",
       "                </td>\n",
       "            </tr>\n",
       "        \n",
       "    \n",
       "    </tbody>\n",
       "</table>\n",
       "    \n",
       "\n",
       "    \n",
       "\n",
       "\n",
       "    \n",
       "\n",
       "    \n",
       "\n",
       "    \n",
       "\n",
       "    \n",
       "\n",
       "    \n",
       "\n",
       "    \n",
       "\n",
       "\n",
       "\n"
      ],
      "text/plain": [
       "Explanation(estimator='RandomForestClassifier(n_estimators=50)', description='\\nRandom forest feature importances; values are numbers 0 <= x <= 1;\\nall values sum to 1.\\n', error=None, method='feature importances', is_regression=False, targets=None, feature_importances=FeatureImportances(importances=[FeatureWeight(feature='ap39_04_4.0', weight=0.031953114119668544, std=0.03367928370518255, value=None), FeatureWeight(feature='isocioa_3.0', weight=0.024406231474666088, std=0.03189861698275715, value=None), FeatureWeight(feature='ap40_01_4.0', weight=0.023208734300613463, std=0.0260360643345625, value=None), FeatureWeight(feature='sector_2', weight=0.022836669303401936, std=0.024740558502264726, value=None), FeatureWeight(feature='ap17_6.0', weight=0.018450161926152515, std=0.02534141439530104, value=None), FeatureWeight(feature='ap39_04_2.0', weight=0.017452903370562427, std=0.02243551728890434, value=None), FeatureWeight(feature='ap24_1.0', weight=0.015834801548474605, std=0.017546371772485896, value=None), FeatureWeight(feature='ap16_6.0', weight=0.015658837713775228, std=0.01908494178461725, value=None), FeatureWeight(feature='ap14_02_1.0', weight=0.014831279798673156, std=0.01922708753864501, value=None), FeatureWeight(feature='ap40_02_4.0', weight=0.01252736404423982, std=0.017576023041603064, value=None), FeatureWeight(feature='ap40_01_1.0', weight=0.010799924273187472, std=0.015158432534581262, value=None), FeatureWeight(feature='ap40_02_1.0', weight=0.010426438664359383, std=0.014130740891920332, value=None), FeatureWeight(feature='ap23_02_1.0', weight=0.010374004581980973, std=0.011818340451633049, value=None), FeatureWeight(feature='isocioa_2.0', weight=0.008882896355776222, std=0.011419037578818084, value=None), FeatureWeight(feature='ap51_08_1.0', weight=0.008843315002943622, std=0.009399688266936065, value=None), FeatureWeight(feature='ap14_02_2.0', weight=0.00825960792040406, std=0.013445833650031564, value=None), FeatureWeight(feature='ap51_05_5.0', weight=0.007971567712750849, std=0.007029699224111706, value=None), FeatureWeight(feature='ap50_02_3.0', weight=0.007258840879634259, std=0.008222752840433221, value=None), FeatureWeight(feature='ap51_06_1.0', weight=0.007040362788332084, std=0.0068514092684699044, value=None), FeatureWeight(feature='ap49_01_3.0', weight=0.006830075981645205, std=0.006321412487132565, value=None), FeatureWeight(feature='ap34_2.0', weight=0.006770254675145703, std=0.007556608322409637, value=None), FeatureWeight(feature='ap23_01_2.0', weight=0.006748581534809736, std=0.00715625544386511, value=None), FeatureWeight(feature='ap43_a_2.0', weight=0.006551578408771417, std=0.006562598911733609, value=None), FeatureWeight(feature='ap40_01_3.0', weight=0.00630797431693874, std=0.005675913906375545, value=None), FeatureWeight(feature='ap43_a_1.0', weight=0.006128192133642074, std=0.0047880480212054745, value=None), FeatureWeight(feature='ap49_01_2.0', weight=0.006014724527116218, std=0.005756540833635811, value=None), FeatureWeight(feature='ap40_02_3.0', weight=0.006010006136162308, std=0.007820020803281326, value=None), FeatureWeight(feature='ap24_2.0', weight=0.005974311878449673, std=0.006169057599892476, value=None), FeatureWeight(feature='ap40_04_4.0', weight=0.005926243838625707, std=0.007417399465147055, value=None), FeatureWeight(feature='ap40_02_2.0', weight=0.005908698299352017, std=0.005357283582205786, value=None), FeatureWeight(feature='ap11_08_2.0', weight=0.005852250522699887, std=0.010280955897711481, value=None), FeatureWeight(feature='ap16_3.0', weight=0.0058463660934920825, std=0.010189734864289233, value=None), FeatureWeight(feature='ap50_02_2.0', weight=0.005723822024109215, std=0.004960193112157481, value=None), FeatureWeight(feature='ap51_05_4.0', weight=0.005706283835953893, std=0.006314370950877818, value=None), FeatureWeight(feature='ap49_01_1.0', weight=0.0055603003198312784, std=0.004709407777307, value=None), FeatureWeight(feature='cod_provincia_6', weight=0.005505480162143698, std=0.006270072410387545, value=None), FeatureWeight(feature='ap23_02_2.0', weight=0.005492510456282517, std=0.006779052400200363, value=None), FeatureWeight(feature='ap17_3.0', weight=0.0054444826123316, std=0.007052522830551681, value=None), FeatureWeight(feature='ap02_2.0', weight=0.00537415285377013, std=0.005118616795700649, value=None), FeatureWeight(feature='trabaja_fuera_hogar_remunerado_3.0', weight=0.0053101512606606935, std=0.006295218967783748, value=None), FeatureWeight(feature='ap40_05_4.0', weight=0.005272719845896881, std=0.0053111852680705705, value=None), FeatureWeight(feature='ap28_01_4.0', weight=0.005245928588014744, std=0.005451392849795961, value=None), FeatureWeight(feature='ap23_06_2.0', weight=0.00521466662864042, std=0.0048100688490944205, value=None), FeatureWeight(feature='trabaja_fuera_hogar_2.0', weight=0.0051369697089031045, std=0.0069727114969595815, value=None), FeatureWeight(feature='ap51_02_4.0', weight=0.00513268847275217, std=0.0052426856604859415, value=None), FeatureWeight(feature='ap51_01_5.0', weight=0.005083022008298355, std=0.005811914403897636, value=None), FeatureWeight(feature='ap35_03_3.0', weight=0.005021688692719507, std=0.004240783054213314, value=None), FeatureWeight(feature='ap42_01_1.0', weight=0.004998032201983302, std=0.004473539291254699, value=None), FeatureWeight(feature='ap07_3.0', weight=0.004993421888747767, std=0.004362013981960036, value=None), FeatureWeight(feature='ap51_08_2.0', weight=0.004966736130458371, std=0.005491704612354049, value=None)], remaining=256), decision_tree=None, highlight_spaces=None, transition_features=None, image=None)"
      ]
     },
     "execution_count": 63,
     "metadata": {},
     "output_type": "execute_result"
    }
   ],
   "source": [
    "import eli5 as eli5\n",
    "\n",
    "eli5.explain_weights(grid_search.best_estimator_.named_steps['clasificador'], top=50, feature_names=list(X.columns))"
   ]
  },
  {
   "cell_type": "markdown",
   "metadata": {},
   "source": [
    "Graficos descriptivos de features"
   ]
  },
  {
   "cell_type": "code",
   "execution_count": 64,
   "metadata": {},
   "outputs": [
    {
     "name": "stderr",
     "output_type": "stream",
     "text": [
      "C:\\Users\\agusr\\anaconda3\\lib\\site-packages\\seaborn\\_decorators.py:36: FutureWarning: Pass the following variable as a keyword arg: x. From version 0.12, the only valid positional argument will be `data`, and passing other arguments without an explicit keyword will result in an error or misinterpretation.\n",
      "  warnings.warn(\n"
     ]
    },
    {
     "data": {
      "text/plain": [
       "Text(0.5, 0, 'Desempeño por cuartil en Matematica')"
      ]
     },
     "execution_count": 64,
     "metadata": {},
     "output_type": "execute_result"
    },
    {
     "data": {
      "image/png": "[encoded data removed]",
      "text/plain": [
       "<Figure size 432x288 with 1 Axes>"
      ]
     },
     "metadata": {
      "needs_background": "light"
     },
     "output_type": "display_data"
    }
   ],
   "source": [
    "plt.figure()\n",
    "sns.countplot(data['mdesemp'],label=\"Count\")\n",
    "plt.ylabel(\"Numero de Estudiantes\")\n",
    "plt.xlabel(\"Desempeño por cuartil en Matematica\")\n",
    "\n"
   ]
  },
  {
   "cell_type": "code",
   "execution_count": 65,
   "metadata": {
    "scrolled": true
   },
   "outputs": [
    {
     "name": "stderr",
     "output_type": "stream",
     "text": [
      "C:\\Users\\agusr\\anaconda3\\lib\\site-packages\\seaborn\\_decorators.py:36: FutureWarning: Pass the following variable as a keyword arg: x. From version 0.12, the only valid positional argument will be `data`, and passing other arguments without an explicit keyword will result in an error or misinterpretation.\n",
      "  warnings.warn(\n"
     ]
    },
    {
     "data": {
      "text/plain": [
       "Text(0.5, 0, 'Desempeño por cuartil en Lengua')"
      ]
     },
     "execution_count": 65,
     "metadata": {},
     "output_type": "execute_result"
    },
    {
     "data": {
      "image/png": "[encoded data removed]",
      "text/plain": [
       "<Figure size 432x288 with 1 Axes>"
      ]
     },
     "metadata": {
      "needs_background": "light"
     },
     "output_type": "display_data"
    }
   ],
   "source": [
    "plt.figure()\n",
    "sns.countplot(data['ldesemp'],label=\"Count\")\n",
    "plt.ylabel(\"Numero de Estudiantes\")\n",
    "plt.xlabel(\"Desempeño por cuartil en Lengua\")\n",
    "\n"
   ]
  },
  {
   "cell_type": "code",
   "execution_count": 83,
   "metadata": {},
   "outputs": [
    {
     "data": {
      "image/png": "[encoded data removed]",
      "text/plain": [
       "<Figure size 432x288 with 1 Axes>"
      ]
     },
     "metadata": {
      "needs_background": "light"
     },
     "output_type": "display_data"
    }
   ],
   "source": [
    "Variable = \"ap14_02\"\n",
    "Nombre_del_grafico = \"Desempeño por familiares con estudios universitarios\"\n",
    "\n",
    "variable_counts = (datafinal.groupby(['mdesemp'])[Variable]\n",
    "                     .value_counts(normalize=True)\n",
    "                     .rename('percentage')\n",
    "                     .mul(100)\n",
    "                     .reset_index()\n",
    "                     .sort_values(Variable))\n",
    "p = sns.barplot(x=\"mdesemp\", y=\"percentage\", hue=Variable, data=variable_counts)\n",
    "p.axes.set_title(Nombre_del_grafico,fontsize=16)\n",
    "p.set_xlabel(\"Desempeño por cuartil matematica\",fontsize=12)\n",
    "p.set_ylabel(\"Porcentaje de estudiantes\",fontsize=12)\n",
    "_ = plt.setp(p.get_xticklabels(), rotation=90)"
   ]
  },
  {
   "cell_type": "code",
   "execution_count": 84,
   "metadata": {},
   "outputs": [
    {
     "data": {
      "image/png": "[encoded data removed]",
      "text/plain": [
       "<Figure size 432x288 with 1 Axes>"
      ]
     },
     "metadata": {
      "needs_background": "light"
     },
     "output_type": "display_data"
    }
   ],
   "source": [
    "Variable = \"ap17\"\n",
    "Nombre_del_grafico = \"Desempeño por maximo nivel educativo del padre\"\n",
    "\n",
    "variable_counts = (datafinal.groupby(['mdesemp'])[Variable]\n",
    "                     .value_counts(normalize=True)\n",
    "                     .rename('percentage')\n",
    "                     .mul(100)\n",
    "                     .reset_index()\n",
    "                     .sort_values(Variable))\n",
    "p = sns.barplot(x=\"mdesemp\", y=\"percentage\", hue=Variable, data=variable_counts)\n",
    "p.axes.set_title(Nombre_del_grafico,fontsize=16)\n",
    "p.set_xlabel(\"Desempeño por cuartil matematica\",fontsize=12)\n",
    "p.set_ylabel(\"Porcentaje de estudiantes\",fontsize=12)\n",
    "_ = plt.setp(p.get_xticklabels(), rotation=90)"
   ]
  },
  {
   "cell_type": "code",
   "execution_count": 85,
   "metadata": {
    "scrolled": true
   },
   "outputs": [
    {
     "data": {
      "image/png": "[encoded data removed]",
      "text/plain": [
       "<Figure size 432x288 with 1 Axes>"
      ]
     },
     "metadata": {
      "needs_background": "light"
     },
     "output_type": "display_data"
    }
   ],
   "source": [
    "Target = \"ldesemp\" # \"mdesemp\" o \"ldesemp\"\n",
    "Desempeño_leng_o_mat = \"Desempeño por cuartil lengua\" # \"Desempeño por cuartil matematica\" o \"Desempeño por cuartil lengua\"\n",
    "Variable = \"ap17\"\n",
    "Nombre_del_grafico = \"Desempeño por maximo nivel educativo del padre\"\n",
    "\n",
    "variable_counts = (datafinal.groupby([Target])[Variable]\n",
    "                     .value_counts(normalize=True)\n",
    "                     .rename('percentage')\n",
    "                     .mul(100)\n",
    "                     .reset_index()\n",
    "                     .sort_values(Variable))\n",
    "p = sns.barplot(x=Target, y=\"percentage\", hue=Variable, data=variable_counts)\n",
    "p.axes.set_title(Nombre_del_grafico,fontsize=16)\n",
    "p.set_xlabel(Desempeño_leng_o_mat,fontsize=12)\n",
    "p.set_ylabel(\"Porcentaje de estudiantes\",fontsize=12)\n",
    "_ = plt.setp(p.get_xticklabels(), rotation=90)"
   ]
  },
  {
   "cell_type": "code",
   "execution_count": 88,
   "metadata": {},
   "outputs": [
    {
     "data": {
      "image/png": "[encoded data removed]",
      "text/plain": [
       "<Figure size 432x288 with 1 Axes>"
      ]
     },
     "metadata": {
      "needs_background": "light"
     },
     "output_type": "display_data"
    }
   ],
   "source": [
    "\n",
    "Target = \"mdesemp\" # \"mdesemp\" o \"ldesemp\"\n",
    "Desempeño_leng_o_mat = \"Desempeño por cuartil matematica\" # \"Desempeño por cuartil matematica\" o \"Desempeño por cuartil lengua\"\n",
    "Variable = \"ap39_01\"\n",
    "Nombre_del_grafico = \"Desempeño por comprension de textos\" # El texto grande que aparece arriba del grafico\n",
    "\n",
    "variable_counts = (datafinal.groupby([Target])[Variable]\n",
    "                     .value_counts(normalize=True)\n",
    "                     .rename('percentage')\n",
    "                     .mul(100)\n",
    "                     .reset_index()\n",
    "                     .sort_values(Variable))\n",
    "p = sns.barplot(x=Target, y=\"percentage\", hue=Variable, data=variable_counts)\n",
    "p.axes.set_title(Nombre_del_grafico,fontsize=16)\n",
    "p.set_xlabel(Desempeño_leng_o_mat,fontsize=12)\n",
    "p.set_ylabel(\"Porcentaje de estudiantes\",fontsize=12)\n",
    "_ = plt.setp(p.get_xticklabels(), rotation=90)"
   ]
  },
  {
   "cell_type": "code",
   "execution_count": 87,
   "metadata": {},
   "outputs": [
    {
     "data": {
      "image/png": "[encoded data removed]",
      "text/plain": [
       "<Figure size 432x288 with 1 Axes>"
      ]
     },
     "metadata": {
      "needs_background": "light"
     },
     "output_type": "display_data"
    }
   ],
   "source": [
    "\n",
    "Target = \"ldesemp\" # \"mdesemp\" o \"ldesemp\"\n",
    "Desempeño_leng_o_mat = \"Desempeño por cuartil lengua\" # \"Desempeño por cuartil matematica\" o \"Desempeño por cuartil lengua\"\n",
    "Variable = \"ap39_01\"\n",
    "Nombre_del_grafico = \"Desempeño por comprension de textos\" # El texto grande que aparece arriba del grafico\n",
    "\n",
    "variable_counts = (datafinal.groupby([Target])[Variable]\n",
    "                     .value_counts(normalize=True)\n",
    "                     .rename('percentage')\n",
    "                     .mul(100)\n",
    "                     .reset_index()\n",
    "                     .sort_values(Variable))\n",
    "p = sns.barplot(x=Target, y=\"percentage\", hue=Variable, data=variable_counts)\n",
    "p.axes.set_title(Nombre_del_grafico,fontsize=16)\n",
    "p.set_xlabel(Desempeño_leng_o_mat,fontsize=12)\n",
    "p.set_ylabel(\"Porcentaje de estudiantes\",fontsize=12)\n",
    "_ = plt.setp(p.get_xticklabels(), rotation=90)"
   ]
  },
  {
   "cell_type": "code",
   "execution_count": 90,
   "metadata": {},
   "outputs": [
    {
     "data": {
      "image/png": "[encoded data removed]",
      "text/plain": [
       "<Figure size 432x288 with 1 Axes>"
      ]
     },
     "metadata": {
      "needs_background": "light"
     },
     "output_type": "display_data"
    }
   ],
   "source": [
    "#Desempeño por Sector\n",
    "#sector\n",
    "\n",
    "Target = \"mdesemp\" # \"mdesemp\" o \"ldesemp\"\n",
    "Desempeño_leng_o_mat = \"Desempeño por cuartil matematica\" # \"Desempeño por cuartil matematica\" o \"Desempeño por cuartil lengua\"\n",
    "Variable = \"sector\"\n",
    "Nombre_del_grafico = \"Desempeño por Sector\" # El texto grande que aparece arriba del grafico\n",
    "\n",
    "variable_counts = (datafinal.groupby([Target])[Variable]\n",
    "                     .value_counts(normalize=True)\n",
    "                     .rename('percentage')\n",
    "                     .mul(100)\n",
    "                     .reset_index()\n",
    "                     .sort_values(Variable))\n",
    "p = sns.barplot(x=Target, y=\"percentage\", hue=Variable, data=variable_counts)\n",
    "p.axes.set_title(Nombre_del_grafico,fontsize=16)\n",
    "p.set_xlabel(Desempeño_leng_o_mat,fontsize=12)\n",
    "p.set_ylabel(\"Porcentaje de estudiantes\",fontsize=12)\n",
    "_ = plt.setp(p.get_xticklabels(), rotation=90)"
   ]
  },
  {
   "cell_type": "code",
   "execution_count": 91,
   "metadata": {},
   "outputs": [
    {
     "data": {
      "image/png": "[encoded data removed]",
      "text/plain": [
       "<Figure size 432x288 with 1 Axes>"
      ]
     },
     "metadata": {
      "needs_background": "light"
     },
     "output_type": "display_data"
    }
   ],
   "source": [
    "Target = \"ldesemp\" # \"mdesemp\" o \"ldesemp\"\n",
    "Desempeño_leng_o_mat = \"Desempeño por cuartil lengua\" # \"Desempeño por cuartil matematica\" o \"Desempeño por cuartil lengua\"\n",
    "Variable = \"sector\"\n",
    "Nombre_del_grafico = \"Desempeño por Sector\" # El texto grande que aparece arriba del grafico\n",
    "\n",
    "variable_counts = (datafinal.groupby([Target])[Variable]\n",
    "                     .value_counts(normalize=True)\n",
    "                     .rename('percentage')\n",
    "                     .mul(100)\n",
    "                     .reset_index()\n",
    "                     .sort_values(Variable))\n",
    "p = sns.barplot(x=Target, y=\"percentage\", hue=Variable, data=variable_counts)\n",
    "p.axes.set_title(Nombre_del_grafico,fontsize=16)\n",
    "p.set_xlabel(Desempeño_leng_o_mat,fontsize=12)\n",
    "p.set_ylabel(\"Porcentaje de estudiantes\",fontsize=12)\n",
    "_ = plt.setp(p.get_xticklabels(), rotation=90)"
   ]
  },
  {
   "cell_type": "code",
   "execution_count": null,
   "metadata": {},
   "outputs": [],
   "source": []
  }
 ],
 "metadata": {
  "kernelspec": {
   "display_name": "Python 3",
   "language": "python",
   "name": "python3"
  },
  "language_info": {
   "codemirror_mode": {
    "name": "ipython",
    "version": 3
   },
   "file_extension": ".py",
   "mimetype": "text/x-python",
   "name": "python",
   "nbconvert_exporter": "python",
   "pygments_lexer": "ipython3",
   "version": "3.7.9"
  }
 },
 "nbformat": 4,
 "nbformat_minor": 4
}
